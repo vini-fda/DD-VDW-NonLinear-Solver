{
 "cells": [
  {
   "cell_type": "code",
   "execution_count": null,
   "metadata": {},
   "outputs": [],
   "source": []
  },
  {
   "cell_type": "markdown",
   "metadata": {},
   "source": [
    "## Equação 1\n",
    "\n",
    "$$\\frac{\\varepsilon(\\rho_0)}{\\rho_0} - M + B_0 = 0$$"
   ]
  },
  {
   "cell_type": "markdown",
   "metadata": {},
   "source": [
    "## Equação 2\n",
    "\n",
    "$$A(\\rho) = \\frac{a}{(1+b \\rho)^n}$$"
   ]
  },
  {
   "cell_type": "markdown",
   "metadata": {},
   "source": [
    "## Equação 3\n",
    "\n",
    "$$B(\\rho) = \\frac{1}{\\rho} - \\frac{1}{\\rho} \\cdot \\exp\\left[ -\\frac{\\left( 4 - \\frac{3 b \\rho}{4}\\right)\\frac{3 b \\rho}{4}}{\\left( 1 - \\frac{3 b \\rho}{4}\\right)^2}\\right]$$"
   ]
  },
  {
   "cell_type": "markdown",
   "metadata": {},
   "source": [
    "**O sistema é:**\n",
    "\n",
    "$$\\left\\{\\begin{aligned}\n",
    "\\varepsilon(\\rho_0) / \\rho_0 - M + B_0 &= 0 \\\\\n",
    "P(\\rho_0) &= 0 \\\\\n",
    "K(\\rho_0) - K_0 &= 0\n",
    "\\end{aligned}\\right.$$"
   ]
  },
  {
   "cell_type": "markdown",
   "metadata": {},
   "source": [
    "As variáveis são\n",
    "\n",
    "$$\\vec{x} = \n",
    "\\begin{bmatrix}\n",
    "a \\\\\n",
    "b \\\\\n",
    "n \\\\\n",
    "\\end{bmatrix}$$"
   ]
  },
  {
   "cell_type": "markdown",
   "metadata": {},
   "source": [
    "Os parâmetros são $\\rho_0$, $K_0$, $B_0$ e $M$"
   ]
  },
  {
   "cell_type": "code",
   "execution_count": 32,
   "metadata": {},
   "outputs": [
    {
     "data": {
      "text/latex": [
       "\\begin{equation}\n",
       "\\frac{a}{\\left( 1 + b \\rho \\right)^{n}}\n",
       "\\end{equation}\n"
      ],
      "text/plain": [
       "a / ((1 + b*ρ)^n)"
      ]
     },
     "execution_count": 32,
     "metadata": {},
     "output_type": "execute_result"
    }
   ],
   "source": [
    "using Symbolics\n",
    "\n",
    "@variables ρ a b n\n",
    "\n",
    "M = 1\n",
    "ρ₀= 1\n",
    "B₀ = 1\n",
    "K₀ = 1\n",
    "\n",
    "@variables γ\n",
    "\n",
    "A = a / (1 + b * ρ)^n"
   ]
  },
  {
   "cell_type": "code",
   "execution_count": 11,
   "metadata": {},
   "outputs": [
    {
     "data": {
      "text/latex": [
       "\\begin{equation}\n",
       "\\frac{1}{\\rho} + \\frac{ - e^{\\frac{ - \\frac{3}{4} b \\rho \\left( 4 - \\frac{3}{4} b \\rho \\right)}{\\left( 1 - \\frac{3}{4} b \\rho \\right)^{2}}}}{\\rho}\n",
       "\\end{equation}\n"
      ],
      "text/plain": [
       "1 / ρ + (-exp(((-3//4)*b*ρ*(4 - (3//4)*b*ρ)) / ((1 - (3//4)*b*ρ)^2))) / ρ"
      ]
     },
     "execution_count": 11,
     "metadata": {},
     "output_type": "execute_result"
    }
   ],
   "source": [
    "B = (1/ρ) - (1/ρ) * exp((((-3)*b*ρ/4)*(4-((3*b*ρ)/4)))/(1-((3*b*ρ)/4))^2)"
   ]
  },
  {
   "cell_type": "code",
   "execution_count": 12,
   "metadata": {},
   "outputs": [
    {
     "data": {
      "text/latex": [
       "\\begin{equation}\n",
       "\\frac{\\rho}{1 - \\rho \\left( \\frac{1}{\\rho} + \\frac{ - e^{\\frac{ - \\frac{3}{4} b \\rho \\left( 4 - \\frac{3}{4} b \\rho \\right)}{\\left( 1 - \\frac{3}{4} b \\rho \\right)^{2}}}}{\\rho} \\right)}\n",
       "\\end{equation}\n"
      ],
      "text/plain": [
       "ρ / (1 - ρ*(1 / ρ + (-exp(((-3//4)*b*ρ*(4 - (3//4)*b*ρ)) / ((1 - (3//4)*b*ρ)^2))) / ρ))"
      ]
     },
     "execution_count": 12,
     "metadata": {},
     "output_type": "execute_result"
    }
   ],
   "source": [
    "ρ_star = ρ /(1-B*ρ)"
   ]
  },
  {
   "cell_type": "code",
   "execution_count": 13,
   "metadata": {},
   "outputs": [
    {
     "data": {
      "text/latex": [
       "\\begin{equation}\n",
       "\\mathrm{cbrt}\\left( \\frac{18.84955592153876 \\rho}{\\gamma \\left( 1 - \\rho \\left( \\frac{1}{\\rho} + \\frac{ - e^{\\frac{ - \\frac{3}{4} b \\rho \\left( 4 - \\frac{3}{4} b \\rho \\right)}{\\left( 1 - \\frac{3}{4} b \\rho \\right)^{2}}}}{\\rho} \\right) \\right)} \\right)\n",
       "\\end{equation}\n"
      ],
      "text/plain": [
       "cbrt((18.84955592153876ρ) / (γ*(1 - ρ*(1 / ρ + (-exp(((-3//4)*b*ρ*(4 - (3//4)*b*ρ)) / ((1 - (3//4)*b*ρ)^2))) / ρ))))"
      ]
     },
     "execution_count": 13,
     "metadata": {},
     "output_type": "execute_result"
    }
   ],
   "source": [
    "kf_star = cbrt((6π*ρ_star)/γ)"
   ]
  },
  {
   "cell_type": "code",
   "execution_count": 19,
   "metadata": {},
   "outputs": [
    {
     "data": {
      "text/latex": [
       "\\begin{equation}\n",
       "0.025330295910584444 \\gamma \\left( \\mathrm{cbrt}\\left( \\frac{18.84955592153876 \\rho}{\\gamma \\left( 1 - \\rho \\left( \\frac{1}{\\rho} + \\frac{ - e^{\\frac{ - \\frac{3}{4} b \\rho \\left( 4 - \\frac{3}{4} b \\rho \\right)}{\\left( 1 - \\frac{3}{4} b \\rho \\right)^{2}}}}{\\rho} \\right) \\right)} \\right) \\sqrt{1 + \\left( \\mathrm{cbrt}\\left( \\frac{18.84955592153876 \\rho}{\\gamma \\left( 1 - \\rho \\left( \\frac{1}{\\rho} + \\frac{ - e^{\\frac{ - \\frac{3}{4} b \\rho \\left( 4 - \\frac{3}{4} b \\rho \\right)}{\\left( 1 - \\frac{3}{4} b \\rho \\right)^{2}}}}{\\rho} \\right) \\right)} \\right) \\right)^{2}} - \\mathrm{arctanh}\\left( \\frac{\\mathrm{cbrt}\\left( \\frac{18.84955592153876 \\rho}{\\gamma \\left( 1 - \\rho \\left( \\frac{1}{\\rho} + \\frac{ - e^{\\frac{ - \\frac{3}{4} b \\rho \\left( 4 - \\frac{3}{4} b \\rho \\right)}{\\left( 1 - \\frac{3}{4} b \\rho \\right)^{2}}}}{\\rho} \\right) \\right)} \\right)}{\\sqrt{1 + \\left( \\mathrm{cbrt}\\left( \\frac{18.84955592153876 \\rho}{\\gamma \\left( 1 - \\rho \\left( \\frac{1}{\\rho} + \\frac{ - e^{\\frac{ - \\frac{3}{4} b \\rho \\left( 4 - \\frac{3}{4} b \\rho \\right)}{\\left( 1 - \\frac{3}{4} b \\rho \\right)^{2}}}}{\\rho} \\right) \\right)} \\right) \\right)^{2}}} \\right) \\right)\n",
       "\\end{equation}\n"
      ],
      "text/plain": [
       "0.025330295910584444γ*(cbrt((18.84955592153876ρ) / (γ*(1 - ρ*(1 / ρ + (-exp(((-3//4)*b*ρ*(4 - (3//4)*b*ρ)) / ((1 - (3//4)*b*ρ)^2))) / ρ))))*sqrt(1 + cbrt((18.84955592153876ρ) / (γ*(1 - ρ*(1 / ρ + (-exp(((-3//4)*b*ρ*(4 - (3//4)*b*ρ)) / ((1 - (3//4)*b*ρ)^2))) / ρ))))^2) - atanh(cbrt((18.84955592153876ρ) / (γ*(1 - ρ*(1 / ρ + (-exp(((-3//4)*b*ρ*(4 - (3//4)*b*ρ)) / ((1 - (3//4)*b*ρ)^2))) / ρ)))) / sqrt(1 + cbrt((18.84955592153876ρ) / (γ*(1 - ρ*(1 / ρ + (-exp(((-3//4)*b*ρ*(4 - (3//4)*b*ρ)) / ((1 - (3//4)*b*ρ)^2))) / ρ))))^2)))"
      ]
     },
     "execution_count": 19,
     "metadata": {},
     "output_type": "execute_result"
    }
   ],
   "source": [
    "ε_star=(γ /(4π^2))*( kf_star*sqrt( kf_star^2 + M^2)- (M^2)*atanh( kf_star/sqrt( kf_star^2+M^2)))"
   ]
  },
  {
   "cell_type": "code",
   "execution_count": 20,
   "metadata": {},
   "outputs": [
    {
     "data": {
      "text/latex": [
       "\\begin{equation}\n",
       "0.025330295910584444 \\gamma \\left( 1 - \\rho \\left( \\frac{1}{\\rho} + \\frac{ - e^{\\frac{ - \\frac{3}{4} b \\rho \\left( 4 - \\frac{3}{4} b \\rho \\right)}{\\left( 1 - \\frac{3}{4} b \\rho \\right)^{2}}}}{\\rho} \\right) \\right) \\left( \\mathrm{cbrt}\\left( \\frac{18.84955592153876 \\rho}{\\gamma \\left( 1 - \\rho \\left( \\frac{1}{\\rho} + \\frac{ - e^{\\frac{ - \\frac{3}{4} b \\rho \\left( 4 - \\frac{3}{4} b \\rho \\right)}{\\left( 1 - \\frac{3}{4} b \\rho \\right)^{2}}}}{\\rho} \\right) \\right)} \\right) \\sqrt{1 + \\left( \\mathrm{cbrt}\\left( \\frac{18.84955592153876 \\rho}{\\gamma \\left( 1 - \\rho \\left( \\frac{1}{\\rho} + \\frac{ - e^{\\frac{ - \\frac{3}{4} b \\rho \\left( 4 - \\frac{3}{4} b \\rho \\right)}{\\left( 1 - \\frac{3}{4} b \\rho \\right)^{2}}}}{\\rho} \\right) \\right)} \\right) \\right)^{2}} - \\mathrm{arctanh}\\left( \\frac{\\mathrm{cbrt}\\left( \\frac{18.84955592153876 \\rho}{\\gamma \\left( 1 - \\rho \\left( \\frac{1}{\\rho} + \\frac{ - e^{\\frac{ - \\frac{3}{4} b \\rho \\left( 4 - \\frac{3}{4} b \\rho \\right)}{\\left( 1 - \\frac{3}{4} b \\rho \\right)^{2}}}}{\\rho} \\right) \\right)} \\right)}{\\sqrt{1 + \\left( \\mathrm{cbrt}\\left( \\frac{18.84955592153876 \\rho}{\\gamma \\left( 1 - \\rho \\left( \\frac{1}{\\rho} + \\frac{ - e^{\\frac{ - \\frac{3}{4} b \\rho \\left( 4 - \\frac{3}{4} b \\rho \\right)}{\\left( 1 - \\frac{3}{4} b \\rho \\right)^{2}}}}{\\rho} \\right) \\right)} \\right) \\right)^{2}}} \\right) \\right)\n",
       "\\end{equation}\n"
      ],
      "text/plain": [
       "0.025330295910584444γ*(1 - ρ*(1 / ρ + (-exp(((-3//4)*b*ρ*(4 - (3//4)*b*ρ)) / ((1 - (3//4)*b*ρ)^2))) / ρ))*(cbrt((18.84955592153876ρ) / (γ*(1 - ρ*(1 / ρ + (-exp(((-3//4)*b*ρ*(4 - (3//4)*b*ρ)) / ((1 - (3//4)*b*ρ)^2))) / ρ))))*sqrt(1 + cbrt((18.84955592153876ρ) / (γ*(1 - ρ*(1 / ρ + (-exp(((-3//4)*b*ρ*(4 - (3//4)*b*ρ)) / ((1 - (3//4)*b*ρ)^2))) / ρ))))^2) - atanh(cbrt((18.84955592153876ρ) / (γ*(1 - ρ*(1 / ρ + (-exp(((-3//4)*b*ρ*(4 - (3//4)*b*ρ)) / ((1 - (3//4)*b*ρ)^2))) / ρ)))) / sqrt(1 + cbrt((18.84955592153876ρ) / (γ*(1 - ρ*(1 / ρ + (-exp(((-3//4)*b*ρ*(4 - (3//4)*b*ρ)) / ((1 - (3//4)*b*ρ)^2))) / ρ))))^2)))"
      ]
     },
     "execution_count": 20,
     "metadata": {},
     "output_type": "execute_result"
    }
   ],
   "source": [
    "ε = (1-B*ρ)*ε_star "
   ]
  },
  {
   "cell_type": "code",
   "execution_count": 22,
   "metadata": {},
   "outputs": [
    {
     "data": {
      "text/latex": [
       "\\begin{equation}\n",
       "0.0021108579925487037 \\gamma \\left( 3 \\mathrm{arctanh}\\left( \\frac{\\mathrm{cbrt}\\left( \\frac{18.84955592153876 \\rho}{\\gamma \\left( 1 - \\rho \\left( \\frac{1}{\\rho} + \\frac{ - e^{\\frac{ - \\frac{3}{4} b \\rho \\left( 4 - \\frac{3}{4} b \\rho \\right)}{\\left( 1 - \\frac{3}{4} b \\rho \\right)^{2}}}}{\\rho} \\right) \\right)} \\right)}{\\sqrt{1 + \\left( \\mathrm{cbrt}\\left( \\frac{18.84955592153876 \\rho}{\\gamma \\left( 1 - \\rho \\left( \\frac{1}{\\rho} + \\frac{ - e^{\\frac{ - \\frac{3}{4} b \\rho \\left( 4 - \\frac{3}{4} b \\rho \\right)}{\\left( 1 - \\frac{3}{4} b \\rho \\right)^{2}}}}{\\rho} \\right) \\right)} \\right) \\right)^{2}}} \\right) + \\left( -3 + 2 \\left( \\mathrm{cbrt}\\left( \\frac{18.84955592153876 \\rho}{\\gamma \\left( 1 - \\rho \\left( \\frac{1}{\\rho} + \\frac{ - e^{\\frac{ - \\frac{3}{4} b \\rho \\left( 4 - \\frac{3}{4} b \\rho \\right)}{\\left( 1 - \\frac{3}{4} b \\rho \\right)^{2}}}}{\\rho} \\right) \\right)} \\right) \\right)^{2} \\right) \\mathrm{cbrt}\\left( \\frac{18.84955592153876 \\rho}{\\gamma \\left( 1 - \\rho \\left( \\frac{1}{\\rho} + \\frac{ - e^{\\frac{ - \\frac{3}{4} b \\rho \\left( 4 - \\frac{3}{4} b \\rho \\right)}{\\left( 1 - \\frac{3}{4} b \\rho \\right)^{2}}}}{\\rho} \\right) \\right)} \\right) \\sqrt{1 + \\left( \\mathrm{cbrt}\\left( \\frac{18.84955592153876 \\rho}{\\gamma \\left( 1 - \\rho \\left( \\frac{1}{\\rho} + \\frac{ - e^{\\frac{ - \\frac{3}{4} b \\rho \\left( 4 - \\frac{3}{4} b \\rho \\right)}{\\left( 1 - \\frac{3}{4} b \\rho \\right)^{2}}}}{\\rho} \\right) \\right)} \\right) \\right)^{2}} \\right)\n",
       "\\end{equation}\n"
      ],
      "text/plain": [
       "0.0021108579925487037γ*(3atanh(cbrt((18.84955592153876ρ) / (γ*(1 - ρ*(1 / ρ + (-exp(((-3//4)*b*ρ*(4 - (3//4)*b*ρ)) / ((1 - (3//4)*b*ρ)^2))) / ρ)))) / sqrt(1 + cbrt((18.84955592153876ρ) / (γ*(1 - ρ*(1 / ρ + (-exp(((-3//4)*b*ρ*(4 - (3//4)*b*ρ)) / ((1 - (3//4)*b*ρ)^2))) / ρ))))^2)) + (2(cbrt((18.84955592153876ρ) / (γ*(1 - ρ*(1 / ρ + (-exp(((-3//4)*b*ρ*(4 - (3//4)*b*ρ)) / ((1 - (3//4)*b*ρ)^2))) / ρ))))^2) - 3)*cbrt((18.84955592153876ρ) / (γ*(1 - ρ*(1 / ρ + (-exp(((-3//4)*b*ρ*(4 - (3//4)*b*ρ)) / ((1 - (3//4)*b*ρ)^2))) / ρ))))*sqrt(1 + cbrt((18.84955592153876ρ) / (γ*(1 - ρ*(1 / ρ + (-exp(((-3//4)*b*ρ*(4 - (3//4)*b*ρ)) / ((1 - (3//4)*b*ρ)^2))) / ρ))))^2))"
      ]
     },
     "execution_count": 22,
     "metadata": {},
     "output_type": "execute_result"
    }
   ],
   "source": [
    "P_star = (γ/(48*π^2)) * (3*M^4*atanh( kf_star/sqrt( kf_star^2 + M^2)) +\n",
    "            kf_star*sqrt( kf_star^2 + M^2)*(2*kf_star^2-3*M^2))"
   ]
  },
  {
   "cell_type": "code",
   "execution_count": 23,
   "metadata": {},
   "outputs": [
    {
     "data": {
      "text/latex": [
       "\\begin{equation}\n",
       " - \\rho^{2} \\mathrm{\\frac{d}{d \\rho}}\\left( a \\right) + 0.0021108579925487037 \\gamma \\rho \\left( 3 \\mathrm{arctanh}\\left( \\frac{\\mathrm{cbrt}\\left( \\frac{18.84955592153876 \\rho}{\\gamma \\left( 1 - \\rho \\left( \\frac{1}{\\rho} + \\frac{ - e^{\\frac{ - \\frac{3}{4} b \\rho \\left( 4 - \\frac{3}{4} b \\rho \\right)}{\\left( 1 - \\frac{3}{4} b \\rho \\right)^{2}}}}{\\rho} \\right) \\right)} \\right)}{\\sqrt{1 + \\left( \\mathrm{cbrt}\\left( \\frac{18.84955592153876 \\rho}{\\gamma \\left( 1 - \\rho \\left( \\frac{1}{\\rho} + \\frac{ - e^{\\frac{ - \\frac{3}{4} b \\rho \\left( 4 - \\frac{3}{4} b \\rho \\right)}{\\left( 1 - \\frac{3}{4} b \\rho \\right)^{2}}}}{\\rho} \\right) \\right)} \\right) \\right)^{2}}} \\right) + \\left( -3 + 2 \\left( \\mathrm{cbrt}\\left( \\frac{18.84955592153876 \\rho}{\\gamma \\left( 1 - \\rho \\left( \\frac{1}{\\rho} + \\frac{ - e^{\\frac{ - \\frac{3}{4} b \\rho \\left( 4 - \\frac{3}{4} b \\rho \\right)}{\\left( 1 - \\frac{3}{4} b \\rho \\right)^{2}}}}{\\rho} \\right) \\right)} \\right) \\right)^{2} \\right) \\mathrm{cbrt}\\left( \\frac{18.84955592153876 \\rho}{\\gamma \\left( 1 - \\rho \\left( \\frac{1}{\\rho} + \\frac{ - e^{\\frac{ - \\frac{3}{4} b \\rho \\left( 4 - \\frac{3}{4} b \\rho \\right)}{\\left( 1 - \\frac{3}{4} b \\rho \\right)^{2}}}}{\\rho} \\right) \\right)} \\right) \\sqrt{1 + \\left( \\mathrm{cbrt}\\left( \\frac{18.84955592153876 \\rho}{\\gamma \\left( 1 - \\rho \\left( \\frac{1}{\\rho} + \\frac{ - e^{\\frac{ - \\frac{3}{4} b \\rho \\left( 4 - \\frac{3}{4} b \\rho \\right)}{\\left( 1 - \\frac{3}{4} b \\rho \\right)^{2}}}}{\\rho} \\right) \\right)} \\right) \\right)^{2}} \\right) \\mathrm{\\frac{d}{d \\rho}}\\left( b \\right)\n",
       "\\end{equation}\n"
      ],
      "text/plain": [
       "0.0021108579925487037γ*ρ*(3atanh(cbrt((18.84955592153876ρ) / (γ*(1 - ρ*(1 / ρ + (-exp(((-3//4)*b*ρ*(4 - (3//4)*b*ρ)) / ((1 - (3//4)*b*ρ)^2))) / ρ)))) / sqrt(1 + cbrt((18.84955592153876ρ) / (γ*(1 - ρ*(1 / ρ + (-exp(((-3//4)*b*ρ*(4 - (3//4)*b*ρ)) / ((1 - (3//4)*b*ρ)^2))) / ρ))))^2)) + (2(cbrt((18.84955592153876ρ) / (γ*(1 - ρ*(1 / ρ + (-exp(((-3//4)*b*ρ*(4 - (3//4)*b*ρ)) / ((1 - (3//4)*b*ρ)^2))) / ρ))))^2) - 3)*cbrt((18.84955592153876ρ) / (γ*(1 - ρ*(1 / ρ + (-exp(((-3//4)*b*ρ*(4 - (3//4)*b*ρ)) / ((1 - (3//4)*b*ρ)^2))) / ρ))))*sqrt(1 + cbrt((18.84955592153876ρ) / (γ*(1 - ρ*(1 / ρ + (-exp(((-3//4)*b*ρ*(4 - (3//4)*b*ρ)) / ((1 - (3//4)*b*ρ)^2))) / ρ))))^2))*Differential(ρ)(b) - (ρ^2)*Differential(ρ)(a)"
      ]
     },
     "execution_count": 23,
     "metadata": {},
     "output_type": "execute_result"
    }
   ],
   "source": [
    "Dρ = Differential(ρ)\n",
    "Σ = Dρ(b) * ρ * P_star - Dρ(a) * ρ^2"
   ]
  },
  {
   "cell_type": "code",
   "execution_count": 25,
   "metadata": {},
   "outputs": [
    {
     "data": {
      "text/latex": [
       "\\begin{equation}\n",
       "\\rho \\left(  - \\rho^{2} \\mathrm{\\frac{d}{d \\rho}}\\left( a \\right) + 0.0021108579925487037 \\gamma \\rho \\left( 3 \\mathrm{arctanh}\\left( \\frac{\\mathrm{cbrt}\\left( \\frac{18.84955592153876 \\rho}{\\gamma \\left( 1 - \\rho \\left( \\frac{1}{\\rho} + \\frac{ - e^{\\frac{ - \\frac{3}{4} b \\rho \\left( 4 - \\frac{3}{4} b \\rho \\right)}{\\left( 1 - \\frac{3}{4} b \\rho \\right)^{2}}}}{\\rho} \\right) \\right)} \\right)}{\\sqrt{1 + \\left( \\mathrm{cbrt}\\left( \\frac{18.84955592153876 \\rho}{\\gamma \\left( 1 - \\rho \\left( \\frac{1}{\\rho} + \\frac{ - e^{\\frac{ - \\frac{3}{4} b \\rho \\left( 4 - \\frac{3}{4} b \\rho \\right)}{\\left( 1 - \\frac{3}{4} b \\rho \\right)^{2}}}}{\\rho} \\right) \\right)} \\right) \\right)^{2}}} \\right) + \\left( -3 + 2 \\left( \\mathrm{cbrt}\\left( \\frac{18.84955592153876 \\rho}{\\gamma \\left( 1 - \\rho \\left( \\frac{1}{\\rho} + \\frac{ - e^{\\frac{ - \\frac{3}{4} b \\rho \\left( 4 - \\frac{3}{4} b \\rho \\right)}{\\left( 1 - \\frac{3}{4} b \\rho \\right)^{2}}}}{\\rho} \\right) \\right)} \\right) \\right)^{2} \\right) \\mathrm{cbrt}\\left( \\frac{18.84955592153876 \\rho}{\\gamma \\left( 1 - \\rho \\left( \\frac{1}{\\rho} + \\frac{ - e^{\\frac{ - \\frac{3}{4} b \\rho \\left( 4 - \\frac{3}{4} b \\rho \\right)}{\\left( 1 - \\frac{3}{4} b \\rho \\right)^{2}}}}{\\rho} \\right) \\right)} \\right) \\sqrt{1 + \\left( \\mathrm{cbrt}\\left( \\frac{18.84955592153876 \\rho}{\\gamma \\left( 1 - \\rho \\left( \\frac{1}{\\rho} + \\frac{ - e^{\\frac{ - \\frac{3}{4} b \\rho \\left( 4 - \\frac{3}{4} b \\rho \\right)}{\\left( 1 - \\frac{3}{4} b \\rho \\right)^{2}}}}{\\rho} \\right) \\right)} \\right) \\right)^{2}} \\right) \\mathrm{\\frac{d}{d \\rho}}\\left( b \\right) \\right) + \\frac{ - \\rho^{2} a}{\\left( 1 + b \\rho \\right)^{n}} + 0.0021108579925487037 \\gamma \\left( 3 \\mathrm{arctanh}\\left( \\frac{\\mathrm{cbrt}\\left( \\frac{18.84955592153876 \\rho}{\\gamma \\left( 1 - \\rho \\left( \\frac{1}{\\rho} + \\frac{ - e^{\\frac{ - \\frac{3}{4} b \\rho \\left( 4 - \\frac{3}{4} b \\rho \\right)}{\\left( 1 - \\frac{3}{4} b \\rho \\right)^{2}}}}{\\rho} \\right) \\right)} \\right)}{\\sqrt{1 + \\left( \\mathrm{cbrt}\\left( \\frac{18.84955592153876 \\rho}{\\gamma \\left( 1 - \\rho \\left( \\frac{1}{\\rho} + \\frac{ - e^{\\frac{ - \\frac{3}{4} b \\rho \\left( 4 - \\frac{3}{4} b \\rho \\right)}{\\left( 1 - \\frac{3}{4} b \\rho \\right)^{2}}}}{\\rho} \\right) \\right)} \\right) \\right)^{2}}} \\right) + \\left( -3 + 2 \\left( \\mathrm{cbrt}\\left( \\frac{18.84955592153876 \\rho}{\\gamma \\left( 1 - \\rho \\left( \\frac{1}{\\rho} + \\frac{ - e^{\\frac{ - \\frac{3}{4} b \\rho \\left( 4 - \\frac{3}{4} b \\rho \\right)}{\\left( 1 - \\frac{3}{4} b \\rho \\right)^{2}}}}{\\rho} \\right) \\right)} \\right) \\right)^{2} \\right) \\mathrm{cbrt}\\left( \\frac{18.84955592153876 \\rho}{\\gamma \\left( 1 - \\rho \\left( \\frac{1}{\\rho} + \\frac{ - e^{\\frac{ - \\frac{3}{4} b \\rho \\left( 4 - \\frac{3}{4} b \\rho \\right)}{\\left( 1 - \\frac{3}{4} b \\rho \\right)^{2}}}}{\\rho} \\right) \\right)} \\right) \\sqrt{1 + \\left( \\mathrm{cbrt}\\left( \\frac{18.84955592153876 \\rho}{\\gamma \\left( 1 - \\rho \\left( \\frac{1}{\\rho} + \\frac{ - e^{\\frac{ - \\frac{3}{4} b \\rho \\left( 4 - \\frac{3}{4} b \\rho \\right)}{\\left( 1 - \\frac{3}{4} b \\rho \\right)^{2}}}}{\\rho} \\right) \\right)} \\right) \\right)^{2}} \\right)\n",
       "\\end{equation}\n"
      ],
      "text/plain": [
       "ρ*(0.0021108579925487037γ*ρ*(3atanh(cbrt((18.84955592153876ρ) / (γ*(1 - ρ*(1 / ρ + (-exp(((-3//4)*b*ρ*(4 - (3//4)*b*ρ)) / ((1 - (3//4)*b*ρ)^2))) / ρ)))) / sqrt(1 + cbrt((18.84955592153876ρ) / (γ*(1 - ρ*(1 / ρ + (-exp(((-3//4)*b*ρ*(4 - (3//4)*b*ρ)) / ((1 - (3//4)*b*ρ)^2))) / ρ))))^2)) + (2(cbrt((18.84955592153876ρ) / (γ*(1 - ρ*(1 / ρ + (-exp(((-3//4)*b*ρ*(4 - (3//4)*b*ρ)) / ((1 - (3//4)*b*ρ)^2))) / ρ))))^2) - 3)*cbrt((18.84955592153876ρ) / (γ*(1 - ρ*(1 / ρ + (-exp(((-3//4)*b*ρ*(4 - (3//4)*b*ρ)) / ((1 - (3//4)*b*ρ)^2))) / ρ))))*sqrt(1 + cbrt((18.84955592153876ρ) / (γ*(1 - ρ*(1 / ρ + (-exp(((-3//4)*b*ρ*(4 - (3//4)*b*ρ)) / ((1 - (3//4)*b*ρ)^2))) / ρ))))^2))*Differential(ρ)(b) - (ρ^2)*Differential(ρ)(a)) + (-a*(ρ^2)) / ((1 + b*ρ)^n) + 0.0021108579925487037γ*(3atanh(cbrt((18.84955592153876ρ) / (γ*(1 - ρ*(1 / ρ + (-exp(((-3//4)*b*ρ*(4 - (3//4)*b*ρ)) / ((1 - (3//4)*b*ρ)^2))) / ρ)))) / sqrt(1 + cbrt((18.84955592153876ρ) / (γ*(1 - ρ*(1 / ρ + (-exp(((-3//4)*b*ρ*(4 - (3//4)*b*ρ)) / ((1 - (3//4)*b*ρ)^2))) / ρ))))^2)) + (2(cbrt((18.84955592153876ρ) / (γ*(1 - ρ*(1 / ρ + (-exp(((-3//4)*b*ρ*(4 - (3//4)*b*ρ)) / ((1 - (3//4)*b*ρ)^2))) / ρ))))^2) - 3)*cbrt((18.84955592153876ρ) / (γ*(1 - ρ*(1 / ρ + (-exp(((-3//4)*b*ρ*(4 - (3//4)*b*ρ)) / ((1 - (3//4)*b*ρ)^2))) / ρ))))*sqrt(1 + cbrt((18.84955592153876ρ) / (γ*(1 - ρ*(1 / ρ + (-exp(((-3//4)*b*ρ*(4 - (3//4)*b*ρ)) / ((1 - (3//4)*b*ρ)^2))) / ρ))))^2))"
      ]
     },
     "execution_count": 25,
     "metadata": {},
     "output_type": "execute_result"
    }
   ],
   "source": [
    "P = P_star - A * ρ^2 + ρ * Σ"
   ]
  },
  {
   "cell_type": "code",
   "execution_count": 29,
   "metadata": {},
   "outputs": [
    {
     "data": {
      "text/latex": [
       "\\begin{equation}\n",
       "\\frac{3 \\left( \\mathrm{cbrt}\\left( \\frac{18.84955592153876 \\rho}{\\gamma \\left( 1 - \\rho \\left( \\frac{1}{\\rho} + \\frac{ - e^{\\frac{ - \\frac{3}{4} b \\rho \\left( 4 - \\frac{3}{4} b \\rho \\right)}{\\left( 1 - \\frac{3}{4} b \\rho \\right)^{2}}}}{\\rho} \\right) \\right)} \\right) \\right)^{2}}{\\mathrm{hypot}\\left( \\mathrm{cbrt}\\left( \\frac{18.84955592153876 \\rho}{\\gamma \\left( 1 - \\rho \\left( \\frac{1}{\\rho} + \\frac{ - e^{\\frac{ - \\frac{3}{4} b \\rho \\left( 4 - \\frac{3}{4} b \\rho \\right)}{\\left( 1 - \\frac{3}{4} b \\rho \\right)^{2}}}}{\\rho} \\right) \\right)} \\right), 1 \\right)}\n",
       "\\end{equation}\n"
      ],
      "text/plain": [
       "(3(cbrt((18.84955592153876ρ) / (γ*(1 - ρ*(1 / ρ + (-exp(((-3//4)*b*ρ*(4 - (3//4)*b*ρ)) / ((1 - (3//4)*b*ρ)^2))) / ρ))))^2)) / hypot(cbrt((18.84955592153876ρ) / (γ*(1 - ρ*(1 / ρ + (-exp(((-3//4)*b*ρ*(4 - (3//4)*b*ρ)) / ((1 - (3//4)*b*ρ)^2))) / ρ)))), 1)"
      ]
     },
     "execution_count": 29,
     "metadata": {},
     "output_type": "execute_result"
    }
   ],
   "source": [
    "K_id_star = 3 * kf_star^2 / hypot(kf_star, M)"
   ]
  },
  {
   "cell_type": "code",
   "execution_count": 30,
   "metadata": {},
   "outputs": [
    {
     "data": {
      "text/latex": [
       "\\begin{equation}\n",
       "9 \\mathrm{\\frac{d}{d \\rho}}\\left( \\rho \\left(  - \\rho^{2} \\mathrm{\\frac{d}{d \\rho}}\\left( a \\right) + 0.0021108579925487037 \\gamma \\rho \\left( 3 \\mathrm{arctanh}\\left( \\frac{\\mathrm{cbrt}\\left( \\frac{18.84955592153876 \\rho}{\\gamma \\left( 1 - \\rho \\left( \\frac{1}{\\rho} + \\frac{ - e^{\\frac{ - \\frac{3}{4} b \\rho \\left( 4 - \\frac{3}{4} b \\rho \\right)}{\\left( 1 - \\frac{3}{4} b \\rho \\right)^{2}}}}{\\rho} \\right) \\right)} \\right)}{\\sqrt{1 + \\left( \\mathrm{cbrt}\\left( \\frac{18.84955592153876 \\rho}{\\gamma \\left( 1 - \\rho \\left( \\frac{1}{\\rho} + \\frac{ - e^{\\frac{ - \\frac{3}{4} b \\rho \\left( 4 - \\frac{3}{4} b \\rho \\right)}{\\left( 1 - \\frac{3}{4} b \\rho \\right)^{2}}}}{\\rho} \\right) \\right)} \\right) \\right)^{2}}} \\right) + \\left( -3 + 2 \\left( \\mathrm{cbrt}\\left( \\frac{18.84955592153876 \\rho}{\\gamma \\left( 1 - \\rho \\left( \\frac{1}{\\rho} + \\frac{ - e^{\\frac{ - \\frac{3}{4} b \\rho \\left( 4 - \\frac{3}{4} b \\rho \\right)}{\\left( 1 - \\frac{3}{4} b \\rho \\right)^{2}}}}{\\rho} \\right) \\right)} \\right) \\right)^{2} \\right) \\mathrm{cbrt}\\left( \\frac{18.84955592153876 \\rho}{\\gamma \\left( 1 - \\rho \\left( \\frac{1}{\\rho} + \\frac{ - e^{\\frac{ - \\frac{3}{4} b \\rho \\left( 4 - \\frac{3}{4} b \\rho \\right)}{\\left( 1 - \\frac{3}{4} b \\rho \\right)^{2}}}}{\\rho} \\right) \\right)} \\right) \\sqrt{1 + \\left( \\mathrm{cbrt}\\left( \\frac{18.84955592153876 \\rho}{\\gamma \\left( 1 - \\rho \\left( \\frac{1}{\\rho} + \\frac{ - e^{\\frac{ - \\frac{3}{4} b \\rho \\left( 4 - \\frac{3}{4} b \\rho \\right)}{\\left( 1 - \\frac{3}{4} b \\rho \\right)^{2}}}}{\\rho} \\right) \\right)} \\right) \\right)^{2}} \\right) \\mathrm{\\frac{d}{d \\rho}}\\left( b \\right) \\right) + \\frac{ - \\rho^{2} a}{\\left( 1 + b \\rho \\right)^{n}} + 0.0021108579925487037 \\gamma \\left( 3 \\mathrm{arctanh}\\left( \\frac{\\mathrm{cbrt}\\left( \\frac{18.84955592153876 \\rho}{\\gamma \\left( 1 - \\rho \\left( \\frac{1}{\\rho} + \\frac{ - e^{\\frac{ - \\frac{3}{4} b \\rho \\left( 4 - \\frac{3}{4} b \\rho \\right)}{\\left( 1 - \\frac{3}{4} b \\rho \\right)^{2}}}}{\\rho} \\right) \\right)} \\right)}{\\sqrt{1 + \\left( \\mathrm{cbrt}\\left( \\frac{18.84955592153876 \\rho}{\\gamma \\left( 1 - \\rho \\left( \\frac{1}{\\rho} + \\frac{ - e^{\\frac{ - \\frac{3}{4} b \\rho \\left( 4 - \\frac{3}{4} b \\rho \\right)}{\\left( 1 - \\frac{3}{4} b \\rho \\right)^{2}}}}{\\rho} \\right) \\right)} \\right) \\right)^{2}}} \\right) + \\left( -3 + 2 \\left( \\mathrm{cbrt}\\left( \\frac{18.84955592153876 \\rho}{\\gamma \\left( 1 - \\rho \\left( \\frac{1}{\\rho} + \\frac{ - e^{\\frac{ - \\frac{3}{4} b \\rho \\left( 4 - \\frac{3}{4} b \\rho \\right)}{\\left( 1 - \\frac{3}{4} b \\rho \\right)^{2}}}}{\\rho} \\right) \\right)} \\right) \\right)^{2} \\right) \\mathrm{cbrt}\\left( \\frac{18.84955592153876 \\rho}{\\gamma \\left( 1 - \\rho \\left( \\frac{1}{\\rho} + \\frac{ - e^{\\frac{ - \\frac{3}{4} b \\rho \\left( 4 - \\frac{3}{4} b \\rho \\right)}{\\left( 1 - \\frac{3}{4} b \\rho \\right)^{2}}}}{\\rho} \\right) \\right)} \\right) \\sqrt{1 + \\left( \\mathrm{cbrt}\\left( \\frac{18.84955592153876 \\rho}{\\gamma \\left( 1 - \\rho \\left( \\frac{1}{\\rho} + \\frac{ - e^{\\frac{ - \\frac{3}{4} b \\rho \\left( 4 - \\frac{3}{4} b \\rho \\right)}{\\left( 1 - \\frac{3}{4} b \\rho \\right)^{2}}}}{\\rho} \\right) \\right)} \\right) \\right)^{2}} \\right) \\right)\n",
       "\\end{equation}\n"
      ],
      "text/plain": [
       "9Differential(ρ)(ρ*(0.0021108579925487037γ*ρ*(3atanh(cbrt((18.84955592153876ρ) / (γ*(1 - ρ*(1 / ρ + (-exp(((-3//4)*b*ρ*(4 - (3//4)*b*ρ)) / ((1 - (3//4)*b*ρ)^2))) / ρ)))) / sqrt(1 + cbrt((18.84955592153876ρ) / (γ*(1 - ρ*(1 / ρ + (-exp(((-3//4)*b*ρ*(4 - (3//4)*b*ρ)) / ((1 - (3//4)*b*ρ)^2))) / ρ))))^2)) + (2(cbrt((18.84955592153876ρ) / (γ*(1 - ρ*(1 / ρ + (-exp(((-3//4)*b*ρ*(4 - (3//4)*b*ρ)) / ((1 - (3//4)*b*ρ)^2))) / ρ))))^2) - 3)*cbrt((18.84955592153876ρ) / (γ*(1 - ρ*(1 / ρ + (-exp(((-3//4)*b*ρ*(4 - (3//4)*b*ρ)) / ((1 - (3//4)*b*ρ)^2))) / ρ))))*sqrt(1 + cbrt((18.84955592153876ρ) / (γ*(1 - ρ*(1 / ρ + (-exp(((-3//4)*b*ρ*(4 - (3//4)*b*ρ)) / ((1 - (3//4)*b*ρ)^2))) / ρ))))^2))*Differential(ρ)(b) - (ρ^2)*Differential(ρ)(a)) + (-a*(ρ^2)) / ((1 + b*ρ)^n) + 0.0021108579925487037γ*(3atanh(cbrt((18.84955592153876ρ) / (γ*(1 - ρ*(1 / ρ + (-exp(((-3//4)*b*ρ*(4 - (3//4)*b*ρ)) / ((1 - (3//4)*b*ρ)^2))) / ρ)))) / sqrt(1 + cbrt((18.84955592153876ρ) / (γ*(1 - ρ*(1 / ρ + (-exp(((-3//4)*b*ρ*(4 - (3//4)*b*ρ)) / ((1 - (3//4)*b*ρ)^2))) / ρ))))^2)) + (2(cbrt((18.84955592153876ρ) / (γ*(1 - ρ*(1 / ρ + (-exp(((-3//4)*b*ρ*(4 - (3//4)*b*ρ)) / ((1 - (3//4)*b*ρ)^2))) / ρ))))^2) - 3)*cbrt((18.84955592153876ρ) / (γ*(1 - ρ*(1 / ρ + (-exp(((-3//4)*b*ρ*(4 - (3//4)*b*ρ)) / ((1 - (3//4)*b*ρ)^2))) / ρ))))*sqrt(1 + cbrt((18.84955592153876ρ) / (γ*(1 - ρ*(1 / ρ + (-exp(((-3//4)*b*ρ*(4 - (3//4)*b*ρ)) / ((1 - (3//4)*b*ρ)^2))) / ρ))))^2)))"
      ]
     },
     "execution_count": 30,
     "metadata": {},
     "output_type": "execute_result"
    }
   ],
   "source": [
    "K = 9 * Dρ(P)"
   ]
  },
  {
   "cell_type": "code",
   "execution_count": 31,
   "metadata": {},
   "outputs": [
    {
     "data": {
      "text/latex": [
       "\\begin{equation}\n",
       "\\frac{ - 18 a \\rho}{\\left( 1 + b \\rho \\right)^{n}} + 0.018997721932938333 \\gamma \\left( \\frac{4}{3} \\left( \\frac{18.84955592153876}{\\gamma \\left( 1 - \\rho \\left( \\frac{1}{\\rho} + \\frac{ - e^{\\frac{ - \\frac{3}{4} b \\rho \\left( 4 - \\frac{3}{4} b \\rho \\right)}{\\left( 1 - \\frac{3}{4} b \\rho \\right)^{2}}}}{\\rho} \\right) \\right)} - \\gamma \\left( \\frac{-1}{\\rho} + \\frac{e^{\\frac{ - \\frac{3}{4} b \\rho \\left( 4 - \\frac{3}{4} b \\rho \\right)}{\\left( 1 - \\frac{3}{4} b \\rho \\right)^{2}}}}{\\rho} - \\rho \\left( \\frac{-1}{\\rho^{2}} + \\frac{ - \\left( \\frac{ - \\frac{3}{4} b \\left( 4 - \\frac{3}{4} b \\rho \\right) + \\frac{9}{16} b^{2} \\rho}{\\left( 1 - \\frac{3}{4} b \\rho \\right)^{2}} + \\frac{3}{4} b \\left( 2 - \\frac{3}{2} b \\rho \\right) \\frac{ - \\frac{3}{4} b \\rho \\left( 4 - \\frac{3}{4} b \\rho \\right)}{\\left( 1 - \\frac{3}{4} b \\rho \\right)^{4}} \\right) e^{\\frac{ - \\frac{3}{4} b \\rho \\left( 4 - \\frac{3}{4} b \\rho \\right)}{\\left( 1 - \\frac{3}{4} b \\rho \\right)^{2}}}}{\\rho} + \\frac{e^{\\frac{ - \\frac{3}{4} b \\rho \\left( 4 - \\frac{3}{4} b \\rho \\right)}{\\left( 1 - \\frac{3}{4} b \\rho \\right)^{2}}}}{\\rho^{2}} \\right) \\right) \\frac{18.84955592153876 \\rho}{\\left( 1 - \\rho \\left( \\frac{1}{\\rho} + \\frac{ - e^{\\frac{ - \\frac{3}{4} b \\rho \\left( 4 - \\frac{3}{4} b \\rho \\right)}{\\left( 1 - \\frac{3}{4} b \\rho \\right)^{2}}}}{\\rho} \\right) \\right)^{2} \\gamma^{2}} \\right) \\sqrt{1 + \\left( \\mathrm{cbrt}\\left( \\frac{18.84955592153876 \\rho}{\\gamma \\left( 1 - \\rho \\left( \\frac{1}{\\rho} + \\frac{ - e^{\\frac{ - \\frac{3}{4} b \\rho \\left( 4 - \\frac{3}{4} b \\rho \\right)}{\\left( 1 - \\frac{3}{4} b \\rho \\right)^{2}}}}{\\rho} \\right) \\right)} \\right) \\right)^{2}} + \\frac{3 \\left( \\frac{\\frac{\\frac{1}{3} \\left( \\frac{18.84955592153876}{\\gamma \\left( 1 - \\rho \\left( \\frac{1}{\\rho} + \\frac{ - e^{\\frac{ - \\frac{3}{4} b \\rho \\left( 4 - \\frac{3}{4} b \\rho \\right)}{\\left( 1 - \\frac{3}{4} b \\rho \\right)^{2}}}}{\\rho} \\right) \\right)} - \\gamma \\left( \\frac{-1}{\\rho} + \\frac{e^{\\frac{ - \\frac{3}{4} b \\rho \\left( 4 - \\frac{3}{4} b \\rho \\right)}{\\left( 1 - \\frac{3}{4} b \\rho \\right)^{2}}}}{\\rho} - \\rho \\left( \\frac{-1}{\\rho^{2}} + \\frac{ - \\left( \\frac{ - \\frac{3}{4} b \\left( 4 - \\frac{3}{4} b \\rho \\right) + \\frac{9}{16} b^{2} \\rho}{\\left( 1 - \\frac{3}{4} b \\rho \\right)^{2}} + \\frac{3}{4} b \\left( 2 - \\frac{3}{2} b \\rho \\right) \\frac{ - \\frac{3}{4} b \\rho \\left( 4 - \\frac{3}{4} b \\rho \\right)}{\\left( 1 - \\frac{3}{4} b \\rho \\right)^{4}} \\right) e^{\\frac{ - \\frac{3}{4} b \\rho \\left( 4 - \\frac{3}{4} b \\rho \\right)}{\\left( 1 - \\frac{3}{4} b \\rho \\right)^{2}}}}{\\rho} + \\frac{e^{\\frac{ - \\frac{3}{4} b \\rho \\left( 4 - \\frac{3}{4} b \\rho \\right)}{\\left( 1 - \\frac{3}{4} b \\rho \\right)^{2}}}}{\\rho^{2}} \\right) \\right) \\frac{18.84955592153876 \\rho}{\\left( 1 - \\rho \\left( \\frac{1}{\\rho} + \\frac{ - e^{\\frac{ - \\frac{3}{4} b \\rho \\left( 4 - \\frac{3}{4} b \\rho \\right)}{\\left( 1 - \\frac{3}{4} b \\rho \\right)^{2}}}}{\\rho} \\right) \\right)^{2} \\gamma^{2}} \\right)}{\\left( \\mathrm{cbrt}\\left( \\frac{18.84955592153876 \\rho}{\\gamma \\left( 1 - \\rho \\left( \\frac{1}{\\rho} + \\frac{ - e^{\\frac{ - \\frac{3}{4} b \\rho \\left( 4 - \\frac{3}{4} b \\rho \\right)}{\\left( 1 - \\frac{3}{4} b \\rho \\right)^{2}}}}{\\rho} \\right) \\right)} \\right) \\right)^{2}}}{\\sqrt{1 + \\left( \\mathrm{cbrt}\\left( \\frac{18.84955592153876 \\rho}{\\gamma \\left( 1 - \\rho \\left( \\frac{1}{\\rho} + \\frac{ - e^{\\frac{ - \\frac{3}{4} b \\rho \\left( 4 - \\frac{3}{4} b \\rho \\right)}{\\left( 1 - \\frac{3}{4} b \\rho \\right)^{2}}}}{\\rho} \\right) \\right)} \\right) \\right)^{2}}} - \\frac{\\frac{1}{3} \\left( \\frac{18.84955592153876}{\\gamma \\left( 1 - \\rho \\left( \\frac{1}{\\rho} + \\frac{ - e^{\\frac{ - \\frac{3}{4} b \\rho \\left( 4 - \\frac{3}{4} b \\rho \\right)}{\\left( 1 - \\frac{3}{4} b \\rho \\right)^{2}}}}{\\rho} \\right) \\right)} - \\gamma \\left( \\frac{-1}{\\rho} + \\frac{e^{\\frac{ - \\frac{3}{4} b \\rho \\left( 4 - \\frac{3}{4} b \\rho \\right)}{\\left( 1 - \\frac{3}{4} b \\rho \\right)^{2}}}}{\\rho} - \\rho \\left( \\frac{-1}{\\rho^{2}} + \\frac{ - \\left( \\frac{ - \\frac{3}{4} b \\left( 4 - \\frac{3}{4} b \\rho \\right) + \\frac{9}{16} b^{2} \\rho}{\\left( 1 - \\frac{3}{4} b \\rho \\right)^{2}} + \\frac{3}{4} b \\left( 2 - \\frac{3}{2} b \\rho \\right) \\frac{ - \\frac{3}{4} b \\rho \\left( 4 - \\frac{3}{4} b \\rho \\right)}{\\left( 1 - \\frac{3}{4} b \\rho \\right)^{4}} \\right) e^{\\frac{ - \\frac{3}{4} b \\rho \\left( 4 - \\frac{3}{4} b \\rho \\right)}{\\left( 1 - \\frac{3}{4} b \\rho \\right)^{2}}}}{\\rho} + \\frac{e^{\\frac{ - \\frac{3}{4} b \\rho \\left( 4 - \\frac{3}{4} b \\rho \\right)}{\\left( 1 - \\frac{3}{4} b \\rho \\right)^{2}}}}{\\rho^{2}} \\right) \\right) \\frac{18.84955592153876 \\rho}{\\left( 1 - \\rho \\left( \\frac{1}{\\rho} + \\frac{ - e^{\\frac{ - \\frac{3}{4} b \\rho \\left( 4 - \\frac{3}{4} b \\rho \\right)}{\\left( 1 - \\frac{3}{4} b \\rho \\right)^{2}}}}{\\rho} \\right) \\right)^{2} \\gamma^{2}} \\right) \\frac{\\mathrm{cbrt}\\left( \\frac{18.84955592153876 \\rho}{\\gamma \\left( 1 - \\rho \\left( \\frac{1}{\\rho} + \\frac{ - e^{\\frac{ - \\frac{3}{4} b \\rho \\left( 4 - \\frac{3}{4} b \\rho \\right)}{\\left( 1 - \\frac{3}{4} b \\rho \\right)^{2}}}}{\\rho} \\right) \\right)} \\right)}{\\left( \\sqrt{1 + \\left( \\mathrm{cbrt}\\left( \\frac{18.84955592153876 \\rho}{\\gamma \\left( 1 - \\rho \\left( \\frac{1}{\\rho} + \\frac{ - e^{\\frac{ - \\frac{3}{4} b \\rho \\left( 4 - \\frac{3}{4} b \\rho \\right)}{\\left( 1 - \\frac{3}{4} b \\rho \\right)^{2}}}}{\\rho} \\right) \\right)} \\right) \\right)^{2}} \\right)^{2}}}{\\sqrt{1 + \\left( \\mathrm{cbrt}\\left( \\frac{18.84955592153876 \\rho}{\\gamma \\left( 1 - \\rho \\left( \\frac{1}{\\rho} + \\frac{ - e^{\\frac{ - \\frac{3}{4} b \\rho \\left( 4 - \\frac{3}{4} b \\rho \\right)}{\\left( 1 - \\frac{3}{4} b \\rho \\right)^{2}}}}{\\rho} \\right) \\right)} \\right) \\right)^{2}} \\mathrm{cbrt}\\left( \\frac{18.84955592153876 \\rho}{\\gamma \\left( 1 - \\rho \\left( \\frac{1}{\\rho} + \\frac{ - e^{\\frac{ - \\frac{3}{4} b \\rho \\left( 4 - \\frac{3}{4} b \\rho \\right)}{\\left( 1 - \\frac{3}{4} b \\rho \\right)^{2}}}}{\\rho} \\right) \\right)} \\right)} \\right)}{1 - \\left( \\frac{\\mathrm{cbrt}\\left( \\frac{18.84955592153876 \\rho}{\\gamma \\left( 1 - \\rho \\left( \\frac{1}{\\rho} + \\frac{ - e^{\\frac{ - \\frac{3}{4} b \\rho \\left( 4 - \\frac{3}{4} b \\rho \\right)}{\\left( 1 - \\frac{3}{4} b \\rho \\right)^{2}}}}{\\rho} \\right) \\right)} \\right)}{\\sqrt{1 + \\left( \\mathrm{cbrt}\\left( \\frac{18.84955592153876 \\rho}{\\gamma \\left( 1 - \\rho \\left( \\frac{1}{\\rho} + \\frac{ - e^{\\frac{ - \\frac{3}{4} b \\rho \\left( 4 - \\frac{3}{4} b \\rho \\right)}{\\left( 1 - \\frac{3}{4} b \\rho \\right)^{2}}}}{\\rho} \\right) \\right)} \\right) \\right)^{2}}} \\right)^{2}} + \\frac{\\frac{1}{3} \\left( -3 + 2 \\left( \\mathrm{cbrt}\\left( \\frac{18.84955592153876 \\rho}{\\gamma \\left( 1 - \\rho \\left( \\frac{1}{\\rho} + \\frac{ - e^{\\frac{ - \\frac{3}{4} b \\rho \\left( 4 - \\frac{3}{4} b \\rho \\right)}{\\left( 1 - \\frac{3}{4} b \\rho \\right)^{2}}}}{\\rho} \\right) \\right)} \\right) \\right)^{2} \\right) \\left( \\frac{18.84955592153876}{\\gamma \\left( 1 - \\rho \\left( \\frac{1}{\\rho} + \\frac{ - e^{\\frac{ - \\frac{3}{4} b \\rho \\left( 4 - \\frac{3}{4} b \\rho \\right)}{\\left( 1 - \\frac{3}{4} b \\rho \\right)^{2}}}}{\\rho} \\right) \\right)} - \\gamma \\left( \\frac{-1}{\\rho} + \\frac{e^{\\frac{ - \\frac{3}{4} b \\rho \\left( 4 - \\frac{3}{4} b \\rho \\right)}{\\left( 1 - \\frac{3}{4} b \\rho \\right)^{2}}}}{\\rho} - \\rho \\left( \\frac{-1}{\\rho^{2}} + \\frac{ - \\left( \\frac{ - \\frac{3}{4} b \\left( 4 - \\frac{3}{4} b \\rho \\right) + \\frac{9}{16} b^{2} \\rho}{\\left( 1 - \\frac{3}{4} b \\rho \\right)^{2}} + \\frac{3}{4} b \\left( 2 - \\frac{3}{2} b \\rho \\right) \\frac{ - \\frac{3}{4} b \\rho \\left( 4 - \\frac{3}{4} b \\rho \\right)}{\\left( 1 - \\frac{3}{4} b \\rho \\right)^{4}} \\right) e^{\\frac{ - \\frac{3}{4} b \\rho \\left( 4 - \\frac{3}{4} b \\rho \\right)}{\\left( 1 - \\frac{3}{4} b \\rho \\right)^{2}}}}{\\rho} + \\frac{e^{\\frac{ - \\frac{3}{4} b \\rho \\left( 4 - \\frac{3}{4} b \\rho \\right)}{\\left( 1 - \\frac{3}{4} b \\rho \\right)^{2}}}}{\\rho^{2}} \\right) \\right) \\frac{18.84955592153876 \\rho}{\\left( 1 - \\rho \\left( \\frac{1}{\\rho} + \\frac{ - e^{\\frac{ - \\frac{3}{4} b \\rho \\left( 4 - \\frac{3}{4} b \\rho \\right)}{\\left( 1 - \\frac{3}{4} b \\rho \\right)^{2}}}}{\\rho} \\right) \\right)^{2} \\gamma^{2}} \\right)}{\\sqrt{1 + \\left( \\mathrm{cbrt}\\left( \\frac{18.84955592153876 \\rho}{\\gamma \\left( 1 - \\rho \\left( \\frac{1}{\\rho} + \\frac{ - e^{\\frac{ - \\frac{3}{4} b \\rho \\left( 4 - \\frac{3}{4} b \\rho \\right)}{\\left( 1 - \\frac{3}{4} b \\rho \\right)^{2}}}}{\\rho} \\right) \\right)} \\right) \\right)^{2}}} + \\frac{\\frac{1}{3} \\left( -3 + 2 \\left( \\mathrm{cbrt}\\left( \\frac{18.84955592153876 \\rho}{\\gamma \\left( 1 - \\rho \\left( \\frac{1}{\\rho} + \\frac{ - e^{\\frac{ - \\frac{3}{4} b \\rho \\left( 4 - \\frac{3}{4} b \\rho \\right)}{\\left( 1 - \\frac{3}{4} b \\rho \\right)^{2}}}}{\\rho} \\right) \\right)} \\right) \\right)^{2} \\right) \\left( \\frac{18.84955592153876}{\\gamma \\left( 1 - \\rho \\left( \\frac{1}{\\rho} + \\frac{ - e^{\\frac{ - \\frac{3}{4} b \\rho \\left( 4 - \\frac{3}{4} b \\rho \\right)}{\\left( 1 - \\frac{3}{4} b \\rho \\right)^{2}}}}{\\rho} \\right) \\right)} - \\gamma \\left( \\frac{-1}{\\rho} + \\frac{e^{\\frac{ - \\frac{3}{4} b \\rho \\left( 4 - \\frac{3}{4} b \\rho \\right)}{\\left( 1 - \\frac{3}{4} b \\rho \\right)^{2}}}}{\\rho} - \\rho \\left( \\frac{-1}{\\rho^{2}} + \\frac{ - \\left( \\frac{ - \\frac{3}{4} b \\left( 4 - \\frac{3}{4} b \\rho \\right) + \\frac{9}{16} b^{2} \\rho}{\\left( 1 - \\frac{3}{4} b \\rho \\right)^{2}} + \\frac{3}{4} b \\left( 2 - \\frac{3}{2} b \\rho \\right) \\frac{ - \\frac{3}{4} b \\rho \\left( 4 - \\frac{3}{4} b \\rho \\right)}{\\left( 1 - \\frac{3}{4} b \\rho \\right)^{4}} \\right) e^{\\frac{ - \\frac{3}{4} b \\rho \\left( 4 - \\frac{3}{4} b \\rho \\right)}{\\left( 1 - \\frac{3}{4} b \\rho \\right)^{2}}}}{\\rho} + \\frac{e^{\\frac{ - \\frac{3}{4} b \\rho \\left( 4 - \\frac{3}{4} b \\rho \\right)}{\\left( 1 - \\frac{3}{4} b \\rho \\right)^{2}}}}{\\rho^{2}} \\right) \\right) \\frac{18.84955592153876 \\rho}{\\left( 1 - \\rho \\left( \\frac{1}{\\rho} + \\frac{ - e^{\\frac{ - \\frac{3}{4} b \\rho \\left( 4 - \\frac{3}{4} b \\rho \\right)}{\\left( 1 - \\frac{3}{4} b \\rho \\right)^{2}}}}{\\rho} \\right) \\right)^{2} \\gamma^{2}} \\right) \\sqrt{1 + \\left( \\mathrm{cbrt}\\left( \\frac{18.84955592153876 \\rho}{\\gamma \\left( 1 - \\rho \\left( \\frac{1}{\\rho} + \\frac{ - e^{\\frac{ - \\frac{3}{4} b \\rho \\left( 4 - \\frac{3}{4} b \\rho \\right)}{\\left( 1 - \\frac{3}{4} b \\rho \\right)^{2}}}}{\\rho} \\right) \\right)} \\right) \\right)^{2}}}{\\left( \\mathrm{cbrt}\\left( \\frac{18.84955592153876 \\rho}{\\gamma \\left( 1 - \\rho \\left( \\frac{1}{\\rho} + \\frac{ - e^{\\frac{ - \\frac{3}{4} b \\rho \\left( 4 - \\frac{3}{4} b \\rho \\right)}{\\left( 1 - \\frac{3}{4} b \\rho \\right)^{2}}}}{\\rho} \\right) \\right)} \\right) \\right)^{2}} \\right) - 9 \\left( 1 + b \\rho \\right)^{-1 + n} b n \\frac{ - \\rho^{2} a}{\\left( 1 + b \\rho \\right)^{2 n}}\n",
       "\\end{equation}\n"
      ],
      "text/plain": [
       "(-18a*ρ) / ((1 + b*ρ)^n) + 0.018997721932938333γ*((4//3)*(18.84955592153876 / (γ*(1 - ρ*(1 / ρ + (-exp(((-3//4)*b*ρ*(4 - (3//4)*b*ρ)) / ((1 - (3//4)*b*ρ)^2))) / ρ))) - γ*(-1 / ρ + exp(((-3//4)*b*ρ*(4 - (3//4)*b*ρ)) / ((1 - (3//4)*b*ρ)^2)) / ρ - ρ*(-1 / (ρ^2) + (-(((9//16)*ρ*(b^2) - (3//4)*b*(4 - (3//4)*b*ρ)) / ((1 - (3//4)*b*ρ)^2) + (3//4)*b*(2 - (3//2)*b*ρ)*(((-3//4)*b*ρ*(4 - (3//4)*b*ρ)) / ((1 - (3//4)*b*ρ)^4)))*exp(((-3//4)*b*ρ*(4 - (3//4)*b*ρ)) / ((1 - (3//4)*b*ρ)^2))) / ρ + exp(((-3//4)*b*ρ*(4 - (3//4)*b*ρ)) / ((1 - (3//4)*b*ρ)^2)) / (ρ^2)))*((18.84955592153876ρ) / ((γ^2)*((1 - ρ*(1 / ρ + (-exp(((-3//4)*b*ρ*(4 - (3//4)*b*ρ)) / ((1 - (3//4)*b*ρ)^2))) / ρ))^2))))*sqrt(1 + cbrt((18.84955592153876ρ) / (γ*(1 - ρ*(1 / ρ + (-exp(((-3//4)*b*ρ*(4 - (3//4)*b*ρ)) / ((1 - (3//4)*b*ρ)^2))) / ρ))))^2) + 3((1 - ((cbrt((18.84955592153876ρ) / (γ*(1 - ρ*(1 / ρ + (-exp(((-3//4)*b*ρ*(4 - (3//4)*b*ρ)) / ((1 - (3//4)*b*ρ)^2))) / ρ)))) / sqrt(1 + cbrt((18.84955592153876ρ) / (γ*(1 - ρ*(1 / ρ + (-exp(((-3//4)*b*ρ*(4 - (3//4)*b*ρ)) / ((1 - (3//4)*b*ρ)^2))) / ρ))))^2))^2))^-1)*(((1//3)*(18.84955592153876 / (γ*(1 - ρ*(1 / ρ + (-exp(((-3//4)*b*ρ*(4 - (3//4)*b*ρ)) / ((1 - (3//4)*b*ρ)^2))) / ρ))) - γ*(-1 / ρ + exp(((-3//4)*b*ρ*(4 - (3//4)*b*ρ)) / ((1 - (3//4)*b*ρ)^2)) / ρ - ρ*(-1 / (ρ^2) + (-(((9//16)*ρ*(b^2) - (3//4)*b*(4 - (3//4)*b*ρ)) / ((1 - (3//4)*b*ρ)^2) + (3//4)*b*(2 - (3//2)*b*ρ)*(((-3//4)*b*ρ*(4 - (3//4)*b*ρ)) / ((1 - (3//4)*b*ρ)^4)))*exp(((-3//4)*b*ρ*(4 - (3//4)*b*ρ)) / ((1 - (3//4)*b*ρ)^2))) / ρ + exp(((-3//4)*b*ρ*(4 - (3//4)*b*ρ)) / ((1 - (3//4)*b*ρ)^2)) / (ρ^2)))*((18.84955592153876ρ) / ((γ^2)*((1 - ρ*(1 / ρ + (-exp(((-3//4)*b*ρ*(4 - (3//4)*b*ρ)) / ((1 - (3//4)*b*ρ)^2))) / ρ))^2))))*(cbrt((18.84955592153876ρ) / (γ*(1 - ρ*(1 / ρ + (-exp(((-3//4)*b*ρ*(4 - (3//4)*b*ρ)) / ((1 - (3//4)*b*ρ)^2))) / ρ))))^-2)) / sqrt(1 + cbrt((18.84955592153876ρ) / (γ*(1 - ρ*(1 / ρ + (-exp(((-3//4)*b*ρ*(4 - (3//4)*b*ρ)) / ((1 - (3//4)*b*ρ)^2))) / ρ))))^2) - (1//3)*(18.84955592153876 / (γ*(1 - ρ*(1 / ρ + (-exp(((-3//4)*b*ρ*(4 - (3//4)*b*ρ)) / ((1 - (3//4)*b*ρ)^2))) / ρ))) - γ*(-1 / ρ + exp(((-3//4)*b*ρ*(4 - (3//4)*b*ρ)) / ((1 - (3//4)*b*ρ)^2)) / ρ - ρ*(-1 / (ρ^2) + (-(((9//16)*ρ*(b^2) - (3//4)*b*(4 - (3//4)*b*ρ)) / ((1 - (3//4)*b*ρ)^2) + (3//4)*b*(2 - (3//2)*b*ρ)*(((-3//4)*b*ρ*(4 - (3//4)*b*ρ)) / ((1 - (3//4)*b*ρ)^4)))*exp(((-3//4)*b*ρ*(4 - (3//4)*b*ρ)) / ((1 - (3//4)*b*ρ)^2))) / ρ + exp(((-3//4)*b*ρ*(4 - (3//4)*b*ρ)) / ((1 - (3//4)*b*ρ)^2)) / (ρ^2)))*((18.84955592153876ρ) / ((γ^2)*((1 - ρ*(1 / ρ + (-exp(((-3//4)*b*ρ*(4 - (3//4)*b*ρ)) / ((1 - (3//4)*b*ρ)^2))) / ρ))^2))))*(cbrt((18.84955592153876ρ) / (γ*(1 - ρ*(1 / ρ + (-exp(((-3//4)*b*ρ*(4 - (3//4)*b*ρ)) / ((1 - (3//4)*b*ρ)^2))) / ρ)))) / (sqrt(1 + cbrt((18.84955592153876ρ) / (γ*(1 - ρ*(1 / ρ + (-exp(((-3//4)*b*ρ*(4 - (3//4)*b*ρ)) / ((1 - (3//4)*b*ρ)^2))) / ρ))))^2)^2))*(cbrt((18.84955592153876ρ) / (γ*(1 - ρ*(1 / ρ + (-exp(((-3//4)*b*ρ*(4 - (3//4)*b*ρ)) / ((1 - (3//4)*b*ρ)^2))) / ρ))))^-1)*(sqrt(1 + cbrt((18.84955592153876ρ) / (γ*(1 - ρ*(1 / ρ + (-exp(((-3//4)*b*ρ*(4 - (3//4)*b*ρ)) / ((1 - (3//4)*b*ρ)^2))) / ρ))))^2)^-1)) + (1//3)*(2(cbrt((18.84955592153876ρ) / (γ*(1 - ρ*(1 / ρ + (-exp(((-3//4)*b*ρ*(4 - (3//4)*b*ρ)) / ((1 - (3//4)*b*ρ)^2))) / ρ))))^2) - 3)*(18.84955592153876 / (γ*(1 - ρ*(1 / ρ + (-exp(((-3//4)*b*ρ*(4 - (3//4)*b*ρ)) / ((1 - (3//4)*b*ρ)^2))) / ρ))) - γ*(-1 / ρ + exp(((-3//4)*b*ρ*(4 - (3//4)*b*ρ)) / ((1 - (3//4)*b*ρ)^2)) / ρ - ρ*(-1 / (ρ^2) + (-(((9//16)*ρ*(b^2) - (3//4)*b*(4 - (3//4)*b*ρ)) / ((1 - (3//4)*b*ρ)^2) + (3//4)*b*(2 - (3//2)*b*ρ)*(((-3//4)*b*ρ*(4 - (3//4)*b*ρ)) / ((1 - (3//4)*b*ρ)^4)))*exp(((-3//4)*b*ρ*(4 - (3//4)*b*ρ)) / ((1 - (3//4)*b*ρ)^2))) / ρ + exp(((-3//4)*b*ρ*(4 - (3//4)*b*ρ)) / ((1 - (3//4)*b*ρ)^2)) / (ρ^2)))*((18.84955592153876ρ) / ((γ^2)*((1 - ρ*(1 / ρ + (-exp(((-3//4)*b*ρ*(4 - (3//4)*b*ρ)) / ((1 - (3//4)*b*ρ)^2))) / ρ))^2))))*(sqrt(1 + cbrt((18.84955592153876ρ) / (γ*(1 - ρ*(1 / ρ + (-exp(((-3//4)*b*ρ*(4 - (3//4)*b*ρ)) / ((1 - (3//4)*b*ρ)^2))) / ρ))))^2)^-1) + (1//3)*(2(cbrt((18.84955592153876ρ) / (γ*(1 - ρ*(1 / ρ + (-exp(((-3//4)*b*ρ*(4 - (3//4)*b*ρ)) / ((1 - (3//4)*b*ρ)^2))) / ρ))))^2) - 3)*(18.84955592153876 / (γ*(1 - ρ*(1 / ρ + (-exp(((-3//4)*b*ρ*(4 - (3//4)*b*ρ)) / ((1 - (3//4)*b*ρ)^2))) / ρ))) - γ*(-1 / ρ + exp(((-3//4)*b*ρ*(4 - (3//4)*b*ρ)) / ((1 - (3//4)*b*ρ)^2)) / ρ - ρ*(-1 / (ρ^2) + (-(((9//16)*ρ*(b^2) - (3//4)*b*(4 - (3//4)*b*ρ)) / ((1 - (3//4)*b*ρ)^2) + (3//4)*b*(2 - (3//2)*b*ρ)*(((-3//4)*b*ρ*(4 - (3//4)*b*ρ)) / ((1 - (3//4)*b*ρ)^4)))*exp(((-3//4)*b*ρ*(4 - (3//4)*b*ρ)) / ((1 - (3//4)*b*ρ)^2))) / ρ + exp(((-3//4)*b*ρ*(4 - (3//4)*b*ρ)) / ((1 - (3//4)*b*ρ)^2)) / (ρ^2)))*((18.84955592153876ρ) / ((γ^2)*((1 - ρ*(1 / ρ + (-exp(((-3//4)*b*ρ*(4 - (3//4)*b*ρ)) / ((1 - (3//4)*b*ρ)^2))) / ρ))^2))))*(cbrt((18.84955592153876ρ) / (γ*(1 - ρ*(1 / ρ + (-exp(((-3//4)*b*ρ*(4 - (3//4)*b*ρ)) / ((1 - (3//4)*b*ρ)^2))) / ρ))))^-2)*sqrt(1 + cbrt((18.84955592153876ρ) / (γ*(1 - ρ*(1 / ρ + (-exp(((-3//4)*b*ρ*(4 - (3//4)*b*ρ)) / ((1 - (3//4)*b*ρ)^2))) / ρ))))^2)) - 9b*n*((1 + b*ρ)^(n - 1))*((-a*(ρ^2)) / ((1 + b*ρ)^(2n)))"
      ]
     },
     "execution_count": 31,
     "metadata": {},
     "output_type": "execute_result"
    }
   ],
   "source": [
    "expand_derivatives(K)"
   ]
  },
  {
   "cell_type": "code",
   "execution_count": 33,
   "metadata": {},
   "outputs": [
    {
     "data": {
      "text/latex": [
       "\\begin{equation}\n",
       "-1 + 9 \\mathrm{\\frac{d}{d \\rho}}\\left( \\rho \\left(  - \\rho^{2} \\mathrm{\\frac{d}{d \\rho}}\\left( a \\right) + 0.0021108579925487037 \\gamma \\rho \\left( 3 \\mathrm{arctanh}\\left( \\frac{\\mathrm{cbrt}\\left( \\frac{18.84955592153876 \\rho}{\\gamma \\left( 1 - \\rho \\left( \\frac{1}{\\rho} + \\frac{ - e^{\\frac{ - \\frac{3}{4} b \\rho \\left( 4 - \\frac{3}{4} b \\rho \\right)}{\\left( 1 - \\frac{3}{4} b \\rho \\right)^{2}}}}{\\rho} \\right) \\right)} \\right)}{\\sqrt{1 + \\left( \\mathrm{cbrt}\\left( \\frac{18.84955592153876 \\rho}{\\gamma \\left( 1 - \\rho \\left( \\frac{1}{\\rho} + \\frac{ - e^{\\frac{ - \\frac{3}{4} b \\rho \\left( 4 - \\frac{3}{4} b \\rho \\right)}{\\left( 1 - \\frac{3}{4} b \\rho \\right)^{2}}}}{\\rho} \\right) \\right)} \\right) \\right)^{2}}} \\right) + \\left( -3 + 2 \\left( \\mathrm{cbrt}\\left( \\frac{18.84955592153876 \\rho}{\\gamma \\left( 1 - \\rho \\left( \\frac{1}{\\rho} + \\frac{ - e^{\\frac{ - \\frac{3}{4} b \\rho \\left( 4 - \\frac{3}{4} b \\rho \\right)}{\\left( 1 - \\frac{3}{4} b \\rho \\right)^{2}}}}{\\rho} \\right) \\right)} \\right) \\right)^{2} \\right) \\mathrm{cbrt}\\left( \\frac{18.84955592153876 \\rho}{\\gamma \\left( 1 - \\rho \\left( \\frac{1}{\\rho} + \\frac{ - e^{\\frac{ - \\frac{3}{4} b \\rho \\left( 4 - \\frac{3}{4} b \\rho \\right)}{\\left( 1 - \\frac{3}{4} b \\rho \\right)^{2}}}}{\\rho} \\right) \\right)} \\right) \\sqrt{1 + \\left( \\mathrm{cbrt}\\left( \\frac{18.84955592153876 \\rho}{\\gamma \\left( 1 - \\rho \\left( \\frac{1}{\\rho} + \\frac{ - e^{\\frac{ - \\frac{3}{4} b \\rho \\left( 4 - \\frac{3}{4} b \\rho \\right)}{\\left( 1 - \\frac{3}{4} b \\rho \\right)^{2}}}}{\\rho} \\right) \\right)} \\right) \\right)^{2}} \\right) \\mathrm{\\frac{d}{d \\rho}}\\left( b \\right) \\right) + \\frac{ - \\rho^{2} a}{\\left( 1 + b \\rho \\right)^{n}} + 0.0021108579925487037 \\gamma \\left( 3 \\mathrm{arctanh}\\left( \\frac{\\mathrm{cbrt}\\left( \\frac{18.84955592153876 \\rho}{\\gamma \\left( 1 - \\rho \\left( \\frac{1}{\\rho} + \\frac{ - e^{\\frac{ - \\frac{3}{4} b \\rho \\left( 4 - \\frac{3}{4} b \\rho \\right)}{\\left( 1 - \\frac{3}{4} b \\rho \\right)^{2}}}}{\\rho} \\right) \\right)} \\right)}{\\sqrt{1 + \\left( \\mathrm{cbrt}\\left( \\frac{18.84955592153876 \\rho}{\\gamma \\left( 1 - \\rho \\left( \\frac{1}{\\rho} + \\frac{ - e^{\\frac{ - \\frac{3}{4} b \\rho \\left( 4 - \\frac{3}{4} b \\rho \\right)}{\\left( 1 - \\frac{3}{4} b \\rho \\right)^{2}}}}{\\rho} \\right) \\right)} \\right) \\right)^{2}}} \\right) + \\left( -3 + 2 \\left( \\mathrm{cbrt}\\left( \\frac{18.84955592153876 \\rho}{\\gamma \\left( 1 - \\rho \\left( \\frac{1}{\\rho} + \\frac{ - e^{\\frac{ - \\frac{3}{4} b \\rho \\left( 4 - \\frac{3}{4} b \\rho \\right)}{\\left( 1 - \\frac{3}{4} b \\rho \\right)^{2}}}}{\\rho} \\right) \\right)} \\right) \\right)^{2} \\right) \\mathrm{cbrt}\\left( \\frac{18.84955592153876 \\rho}{\\gamma \\left( 1 - \\rho \\left( \\frac{1}{\\rho} + \\frac{ - e^{\\frac{ - \\frac{3}{4} b \\rho \\left( 4 - \\frac{3}{4} b \\rho \\right)}{\\left( 1 - \\frac{3}{4} b \\rho \\right)^{2}}}}{\\rho} \\right) \\right)} \\right) \\sqrt{1 + \\left( \\mathrm{cbrt}\\left( \\frac{18.84955592153876 \\rho}{\\gamma \\left( 1 - \\rho \\left( \\frac{1}{\\rho} + \\frac{ - e^{\\frac{ - \\frac{3}{4} b \\rho \\left( 4 - \\frac{3}{4} b \\rho \\right)}{\\left( 1 - \\frac{3}{4} b \\rho \\right)^{2}}}}{\\rho} \\right) \\right)} \\right) \\right)^{2}} \\right) \\right)\n",
       "\\end{equation}\n"
      ],
      "text/plain": [
       "9Differential(ρ)(ρ*(0.0021108579925487037γ*ρ*(3atanh(cbrt((18.84955592153876ρ) / (γ*(1 - ρ*(1 / ρ + (-exp(((-3//4)*b*ρ*(4 - (3//4)*b*ρ)) / ((1 - (3//4)*b*ρ)^2))) / ρ)))) / sqrt(1 + cbrt((18.84955592153876ρ) / (γ*(1 - ρ*(1 / ρ + (-exp(((-3//4)*b*ρ*(4 - (3//4)*b*ρ)) / ((1 - (3//4)*b*ρ)^2))) / ρ))))^2)) + (2(cbrt((18.84955592153876ρ) / (γ*(1 - ρ*(1 / ρ + (-exp(((-3//4)*b*ρ*(4 - (3//4)*b*ρ)) / ((1 - (3//4)*b*ρ)^2))) / ρ))))^2) - 3)*cbrt((18.84955592153876ρ) / (γ*(1 - ρ*(1 / ρ + (-exp(((-3//4)*b*ρ*(4 - (3//4)*b*ρ)) / ((1 - (3//4)*b*ρ)^2))) / ρ))))*sqrt(1 + cbrt((18.84955592153876ρ) / (γ*(1 - ρ*(1 / ρ + (-exp(((-3//4)*b*ρ*(4 - (3//4)*b*ρ)) / ((1 - (3//4)*b*ρ)^2))) / ρ))))^2))*Differential(ρ)(b) - (ρ^2)*Differential(ρ)(a)) + (-a*(ρ^2)) / ((1 + b*ρ)^n) + 0.0021108579925487037γ*(3atanh(cbrt((18.84955592153876ρ) / (γ*(1 - ρ*(1 / ρ + (-exp(((-3//4)*b*ρ*(4 - (3//4)*b*ρ)) / ((1 - (3//4)*b*ρ)^2))) / ρ)))) / sqrt(1 + cbrt((18.84955592153876ρ) / (γ*(1 - ρ*(1 / ρ + (-exp(((-3//4)*b*ρ*(4 - (3//4)*b*ρ)) / ((1 - (3//4)*b*ρ)^2))) / ρ))))^2)) + (2(cbrt((18.84955592153876ρ) / (γ*(1 - ρ*(1 / ρ + (-exp(((-3//4)*b*ρ*(4 - (3//4)*b*ρ)) / ((1 - (3//4)*b*ρ)^2))) / ρ))))^2) - 3)*cbrt((18.84955592153876ρ) / (γ*(1 - ρ*(1 / ρ + (-exp(((-3//4)*b*ρ*(4 - (3//4)*b*ρ)) / ((1 - (3//4)*b*ρ)^2))) / ρ))))*sqrt(1 + cbrt((18.84955592153876ρ) / (γ*(1 - ρ*(1 / ρ + (-exp(((-3//4)*b*ρ*(4 - (3//4)*b*ρ)) / ((1 - (3//4)*b*ρ)^2))) / ρ))))^2))) - 1"
      ]
     },
     "execution_count": 33,
     "metadata": {},
     "output_type": "execute_result"
    }
   ],
   "source": [
    "# TODO:\n",
    "\n",
    "y1 = ε/ρ₀ - ρ₀ + M\n",
    "y2 = P\n",
    "y3 = K - K₀"
   ]
  },
  {
   "cell_type": "code",
   "execution_count": 34,
   "metadata": {},
   "outputs": [
    {
     "data": {
      "text/latex": [
       "\\begin{equation}\n",
       "\\left[\n",
       "\\begin{array}{c}\n",
       "0.025330295910584444 \\gamma \\left( 1 - \\rho \\left( \\frac{1}{\\rho} + \\frac{ - e^{\\frac{ - \\frac{3}{4} b \\rho \\left( 4 - \\frac{3}{4} b \\rho \\right)}{\\left( 1 - \\frac{3}{4} b \\rho \\right)^{2}}}}{\\rho} \\right) \\right) \\left( \\mathrm{cbrt}\\left( \\frac{18.84955592153876 \\rho}{\\gamma \\left( 1 - \\rho \\left( \\frac{1}{\\rho} + \\frac{ - e^{\\frac{ - \\frac{3}{4} b \\rho \\left( 4 - \\frac{3}{4} b \\rho \\right)}{\\left( 1 - \\frac{3}{4} b \\rho \\right)^{2}}}}{\\rho} \\right) \\right)} \\right) \\sqrt{1 + \\left( \\mathrm{cbrt}\\left( \\frac{18.84955592153876 \\rho}{\\gamma \\left( 1 - \\rho \\left( \\frac{1}{\\rho} + \\frac{ - e^{\\frac{ - \\frac{3}{4} b \\rho \\left( 4 - \\frac{3}{4} b \\rho \\right)}{\\left( 1 - \\frac{3}{4} b \\rho \\right)^{2}}}}{\\rho} \\right) \\right)} \\right) \\right)^{2}} - \\mathrm{arctanh}\\left( \\frac{\\mathrm{cbrt}\\left( \\frac{18.84955592153876 \\rho}{\\gamma \\left( 1 - \\rho \\left( \\frac{1}{\\rho} + \\frac{ - e^{\\frac{ - \\frac{3}{4} b \\rho \\left( 4 - \\frac{3}{4} b \\rho \\right)}{\\left( 1 - \\frac{3}{4} b \\rho \\right)^{2}}}}{\\rho} \\right) \\right)} \\right)}{\\sqrt{1 + \\left( \\mathrm{cbrt}\\left( \\frac{18.84955592153876 \\rho}{\\gamma \\left( 1 - \\rho \\left( \\frac{1}{\\rho} + \\frac{ - e^{\\frac{ - \\frac{3}{4} b \\rho \\left( 4 - \\frac{3}{4} b \\rho \\right)}{\\left( 1 - \\frac{3}{4} b \\rho \\right)^{2}}}}{\\rho} \\right) \\right)} \\right) \\right)^{2}}} \\right) \\right) \\\\\n",
       "\\rho \\left(  - \\rho^{2} \\mathrm{\\frac{d}{d \\rho}}\\left( a \\right) + 0.0021108579925487037 \\gamma \\rho \\left( 3 \\mathrm{arctanh}\\left( \\frac{\\mathrm{cbrt}\\left( \\frac{18.84955592153876 \\rho}{\\gamma \\left( 1 - \\rho \\left( \\frac{1}{\\rho} + \\frac{ - e^{\\frac{ - \\frac{3}{4} b \\rho \\left( 4 - \\frac{3}{4} b \\rho \\right)}{\\left( 1 - \\frac{3}{4} b \\rho \\right)^{2}}}}{\\rho} \\right) \\right)} \\right)}{\\sqrt{1 + \\left( \\mathrm{cbrt}\\left( \\frac{18.84955592153876 \\rho}{\\gamma \\left( 1 - \\rho \\left( \\frac{1}{\\rho} + \\frac{ - e^{\\frac{ - \\frac{3}{4} b \\rho \\left( 4 - \\frac{3}{4} b \\rho \\right)}{\\left( 1 - \\frac{3}{4} b \\rho \\right)^{2}}}}{\\rho} \\right) \\right)} \\right) \\right)^{2}}} \\right) + \\left( -3 + 2 \\left( \\mathrm{cbrt}\\left( \\frac{18.84955592153876 \\rho}{\\gamma \\left( 1 - \\rho \\left( \\frac{1}{\\rho} + \\frac{ - e^{\\frac{ - \\frac{3}{4} b \\rho \\left( 4 - \\frac{3}{4} b \\rho \\right)}{\\left( 1 - \\frac{3}{4} b \\rho \\right)^{2}}}}{\\rho} \\right) \\right)} \\right) \\right)^{2} \\right) \\mathrm{cbrt}\\left( \\frac{18.84955592153876 \\rho}{\\gamma \\left( 1 - \\rho \\left( \\frac{1}{\\rho} + \\frac{ - e^{\\frac{ - \\frac{3}{4} b \\rho \\left( 4 - \\frac{3}{4} b \\rho \\right)}{\\left( 1 - \\frac{3}{4} b \\rho \\right)^{2}}}}{\\rho} \\right) \\right)} \\right) \\sqrt{1 + \\left( \\mathrm{cbrt}\\left( \\frac{18.84955592153876 \\rho}{\\gamma \\left( 1 - \\rho \\left( \\frac{1}{\\rho} + \\frac{ - e^{\\frac{ - \\frac{3}{4} b \\rho \\left( 4 - \\frac{3}{4} b \\rho \\right)}{\\left( 1 - \\frac{3}{4} b \\rho \\right)^{2}}}}{\\rho} \\right) \\right)} \\right) \\right)^{2}} \\right) \\mathrm{\\frac{d}{d \\rho}}\\left( b \\right) \\right) + \\frac{ - \\rho^{2} a}{\\left( 1 + b \\rho \\right)^{n}} + 0.0021108579925487037 \\gamma \\left( 3 \\mathrm{arctanh}\\left( \\frac{\\mathrm{cbrt}\\left( \\frac{18.84955592153876 \\rho}{\\gamma \\left( 1 - \\rho \\left( \\frac{1}{\\rho} + \\frac{ - e^{\\frac{ - \\frac{3}{4} b \\rho \\left( 4 - \\frac{3}{4} b \\rho \\right)}{\\left( 1 - \\frac{3}{4} b \\rho \\right)^{2}}}}{\\rho} \\right) \\right)} \\right)}{\\sqrt{1 + \\left( \\mathrm{cbrt}\\left( \\frac{18.84955592153876 \\rho}{\\gamma \\left( 1 - \\rho \\left( \\frac{1}{\\rho} + \\frac{ - e^{\\frac{ - \\frac{3}{4} b \\rho \\left( 4 - \\frac{3}{4} b \\rho \\right)}{\\left( 1 - \\frac{3}{4} b \\rho \\right)^{2}}}}{\\rho} \\right) \\right)} \\right) \\right)^{2}}} \\right) + \\left( -3 + 2 \\left( \\mathrm{cbrt}\\left( \\frac{18.84955592153876 \\rho}{\\gamma \\left( 1 - \\rho \\left( \\frac{1}{\\rho} + \\frac{ - e^{\\frac{ - \\frac{3}{4} b \\rho \\left( 4 - \\frac{3}{4} b \\rho \\right)}{\\left( 1 - \\frac{3}{4} b \\rho \\right)^{2}}}}{\\rho} \\right) \\right)} \\right) \\right)^{2} \\right) \\mathrm{cbrt}\\left( \\frac{18.84955592153876 \\rho}{\\gamma \\left( 1 - \\rho \\left( \\frac{1}{\\rho} + \\frac{ - e^{\\frac{ - \\frac{3}{4} b \\rho \\left( 4 - \\frac{3}{4} b \\rho \\right)}{\\left( 1 - \\frac{3}{4} b \\rho \\right)^{2}}}}{\\rho} \\right) \\right)} \\right) \\sqrt{1 + \\left( \\mathrm{cbrt}\\left( \\frac{18.84955592153876 \\rho}{\\gamma \\left( 1 - \\rho \\left( \\frac{1}{\\rho} + \\frac{ - e^{\\frac{ - \\frac{3}{4} b \\rho \\left( 4 - \\frac{3}{4} b \\rho \\right)}{\\left( 1 - \\frac{3}{4} b \\rho \\right)^{2}}}}{\\rho} \\right) \\right)} \\right) \\right)^{2}} \\right) \\\\\n",
       "-1 + 9 \\mathrm{\\frac{d}{d \\rho}}\\left( \\rho \\left(  - \\rho^{2} \\mathrm{\\frac{d}{d \\rho}}\\left( a \\right) + 0.0021108579925487037 \\gamma \\rho \\left( 3 \\mathrm{arctanh}\\left( \\frac{\\mathrm{cbrt}\\left( \\frac{18.84955592153876 \\rho}{\\gamma \\left( 1 - \\rho \\left( \\frac{1}{\\rho} + \\frac{ - e^{\\frac{ - \\frac{3}{4} b \\rho \\left( 4 - \\frac{3}{4} b \\rho \\right)}{\\left( 1 - \\frac{3}{4} b \\rho \\right)^{2}}}}{\\rho} \\right) \\right)} \\right)}{\\sqrt{1 + \\left( \\mathrm{cbrt}\\left( \\frac{18.84955592153876 \\rho}{\\gamma \\left( 1 - \\rho \\left( \\frac{1}{\\rho} + \\frac{ - e^{\\frac{ - \\frac{3}{4} b \\rho \\left( 4 - \\frac{3}{4} b \\rho \\right)}{\\left( 1 - \\frac{3}{4} b \\rho \\right)^{2}}}}{\\rho} \\right) \\right)} \\right) \\right)^{2}}} \\right) + \\left( -3 + 2 \\left( \\mathrm{cbrt}\\left( \\frac{18.84955592153876 \\rho}{\\gamma \\left( 1 - \\rho \\left( \\frac{1}{\\rho} + \\frac{ - e^{\\frac{ - \\frac{3}{4} b \\rho \\left( 4 - \\frac{3}{4} b \\rho \\right)}{\\left( 1 - \\frac{3}{4} b \\rho \\right)^{2}}}}{\\rho} \\right) \\right)} \\right) \\right)^{2} \\right) \\mathrm{cbrt}\\left( \\frac{18.84955592153876 \\rho}{\\gamma \\left( 1 - \\rho \\left( \\frac{1}{\\rho} + \\frac{ - e^{\\frac{ - \\frac{3}{4} b \\rho \\left( 4 - \\frac{3}{4} b \\rho \\right)}{\\left( 1 - \\frac{3}{4} b \\rho \\right)^{2}}}}{\\rho} \\right) \\right)} \\right) \\sqrt{1 + \\left( \\mathrm{cbrt}\\left( \\frac{18.84955592153876 \\rho}{\\gamma \\left( 1 - \\rho \\left( \\frac{1}{\\rho} + \\frac{ - e^{\\frac{ - \\frac{3}{4} b \\rho \\left( 4 - \\frac{3}{4} b \\rho \\right)}{\\left( 1 - \\frac{3}{4} b \\rho \\right)^{2}}}}{\\rho} \\right) \\right)} \\right) \\right)^{2}} \\right) \\mathrm{\\frac{d}{d \\rho}}\\left( b \\right) \\right) + \\frac{ - \\rho^{2} a}{\\left( 1 + b \\rho \\right)^{n}} + 0.0021108579925487037 \\gamma \\left( 3 \\mathrm{arctanh}\\left( \\frac{\\mathrm{cbrt}\\left( \\frac{18.84955592153876 \\rho}{\\gamma \\left( 1 - \\rho \\left( \\frac{1}{\\rho} + \\frac{ - e^{\\frac{ - \\frac{3}{4} b \\rho \\left( 4 - \\frac{3}{4} b \\rho \\right)}{\\left( 1 - \\frac{3}{4} b \\rho \\right)^{2}}}}{\\rho} \\right) \\right)} \\right)}{\\sqrt{1 + \\left( \\mathrm{cbrt}\\left( \\frac{18.84955592153876 \\rho}{\\gamma \\left( 1 - \\rho \\left( \\frac{1}{\\rho} + \\frac{ - e^{\\frac{ - \\frac{3}{4} b \\rho \\left( 4 - \\frac{3}{4} b \\rho \\right)}{\\left( 1 - \\frac{3}{4} b \\rho \\right)^{2}}}}{\\rho} \\right) \\right)} \\right) \\right)^{2}}} \\right) + \\left( -3 + 2 \\left( \\mathrm{cbrt}\\left( \\frac{18.84955592153876 \\rho}{\\gamma \\left( 1 - \\rho \\left( \\frac{1}{\\rho} + \\frac{ - e^{\\frac{ - \\frac{3}{4} b \\rho \\left( 4 - \\frac{3}{4} b \\rho \\right)}{\\left( 1 - \\frac{3}{4} b \\rho \\right)^{2}}}}{\\rho} \\right) \\right)} \\right) \\right)^{2} \\right) \\mathrm{cbrt}\\left( \\frac{18.84955592153876 \\rho}{\\gamma \\left( 1 - \\rho \\left( \\frac{1}{\\rho} + \\frac{ - e^{\\frac{ - \\frac{3}{4} b \\rho \\left( 4 - \\frac{3}{4} b \\rho \\right)}{\\left( 1 - \\frac{3}{4} b \\rho \\right)^{2}}}}{\\rho} \\right) \\right)} \\right) \\sqrt{1 + \\left( \\mathrm{cbrt}\\left( \\frac{18.84955592153876 \\rho}{\\gamma \\left( 1 - \\rho \\left( \\frac{1}{\\rho} + \\frac{ - e^{\\frac{ - \\frac{3}{4} b \\rho \\left( 4 - \\frac{3}{4} b \\rho \\right)}{\\left( 1 - \\frac{3}{4} b \\rho \\right)^{2}}}}{\\rho} \\right) \\right)} \\right) \\right)^{2}} \\right) \\right) \\\\\n",
       "\\end{array}\n",
       "\\right]\n",
       "\\end{equation}\n"
      ],
      "text/plain": [
       "3-element Vector{Num}:\n",
       "    0.025330295910584444γ*(1 - ρ*(1 / ρ + (-exp(((-3//4)*b*ρ*(4 - (3//4)*b*ρ)) / ((1 - (3//4)*b*ρ)^2))) / ρ))*(cbrt((18.84955592153876ρ) / (γ*(1 - ρ*(1 / ρ + (-exp(((-3//4)*b*ρ*(4 - (3//4)*b*ρ)) / ((1 - (3//4)*b*ρ)^2))) / ρ))))*sqrt(1 + cbrt((18.84955592153876ρ) / (γ*(1 - ρ*(1 / ρ + (-exp(((-3//4)*b*ρ*(4 - (3//4)*b*ρ)) / ((1 - (3//4)*b*ρ)^2))) / ρ))))^2) - atanh(cbrt((18.84955592153876ρ) / (γ*(1 - ρ*(1 / ρ + (-exp(((-3//4)*b*ρ*(4 - (3//4)*b*ρ)) / ((1 - (3//4)*b*ρ)^2))) / ρ)))) / sqrt(1 + cbrt((18.84955592153876ρ) / (γ*(1 - ρ*(1 / ρ + (-exp(((-3//4)*b*ρ*(4 - (3//4)*b*ρ)) / ((1 - (3//4)*b*ρ)^2))) / ρ))))^2)))\n",
       " ρ*(0.0021108579925487037γ*ρ*(3atanh(cbrt((18.84955592153876ρ) / (γ*(1 - ρ*(1 / ρ + (-exp(((-3//4)*b*ρ*(4 - (3//4)*b*ρ)) / ((1 - (3//4)*b*ρ)^2))) / ρ)))) / sqrt(1 + cbrt((18.84955592153876ρ) / (γ*(1 - ρ*(1 / ρ + (-exp(((-3//4)*b*ρ*(4 - (3//4)*b*ρ)) / ((1 - (3//4)*b*ρ)^2))) / ρ))))^2)) + (2(cbrt((18.84955592153876ρ) / (γ*(1 - ρ*(1 / ρ + (-exp(((-3//4)*b*ρ*(4 - (3//4)*b*ρ)) / ((1 - (3//4)*b*ρ)^2))) / ρ))))^2) - 3)*cbrt((18.84955592153876ρ) / (γ*(1 - ρ*(1 / ρ + (-exp(((-3//4)*b*ρ*(4 - (3//4)*b*ρ)) / ((1 - (3//4)*b*ρ)^2))) / ρ))))*sqrt(1 + cbrt((18.84955592153876ρ) / (γ*(1 - ρ*(1 / ρ + (-exp(((-3//4)*b*ρ*(4 - (3//4)*b*ρ)) / ((1 - (3//4)*b*ρ)^2))) / ρ))))^2))*Differential(ρ)(b) - (ρ^2)*Differential(ρ)(a)) + (-a*(ρ^2)) / ((1 + b*ρ)^n) + 0.0021108579925487037γ*(3atanh(cbrt((18.84955592153876ρ) / (γ*(1 - ρ*(1 / ρ + (-exp(((-3//4)*b*ρ*(4 - (3//4)*b*ρ)) / ((1 - (3//4)*b*ρ)^2))) / ρ)))) / sqrt(1 + cbrt((18.84955592153876ρ) / (γ*(1 - ρ*(1 / ρ + (-exp(((-3//4)*b*ρ*(4 - (3//4)*b*ρ)) / ((1 - (3//4)*b*ρ)^2))) / ρ))))^2)) + (2(cbrt((18.84955592153876ρ) / (γ*(1 - ρ*(1 / ρ + (-exp(((-3//4)*b*ρ*(4 - (3//4)*b*ρ)) / ((1 - (3//4)*b*ρ)^2))) / ρ))))^2) - 3)*cbrt((18.84955592153876ρ) / (γ*(1 - ρ*(1 / ρ + (-exp(((-3//4)*b*ρ*(4 - (3//4)*b*ρ)) / ((1 - (3//4)*b*ρ)^2))) / ρ))))*sqrt(1 + cbrt((18.84955592153876ρ) / (γ*(1 - ρ*(1 / ρ + (-exp(((-3//4)*b*ρ*(4 - (3//4)*b*ρ)) / ((1 - (3//4)*b*ρ)^2))) / ρ))))^2))\n",
       "  9Differential(ρ)(ρ*(0.0021108579925487037γ*ρ*(3atanh(cbrt((18.84955592153876ρ) / (γ*(1 - ρ*(1 / ρ + (-exp(((-3//4)*b*ρ*(4 - (3//4)*b*ρ)) / ((1 - (3//4)*b*ρ)^2))) / ρ)))) / sqrt(1 + cbrt((18.84955592153876ρ) / (γ*(1 - ρ*(1 / ρ + (-exp(((-3//4)*b*ρ*(4 - (3//4)*b*ρ)) / ((1 - (3//4)*b*ρ)^2))) / ρ))))^2)) + (2(cbrt((18.84955592153876ρ) / (γ*(1 - ρ*(1 / ρ + (-exp(((-3//4)*b*ρ*(4 - (3//4)*b*ρ)) / ((1 - (3//4)*b*ρ)^2))) / ρ))))^2) - 3)*cbrt((18.84955592153876ρ) / (γ*(1 - ρ*(1 / ρ + (-exp(((-3//4)*b*ρ*(4 - (3//4)*b*ρ)) / ((1 - (3//4)*b*ρ)^2))) / ρ))))*sqrt(1 + cbrt((18.84955592153876ρ) / (γ*(1 - ρ*(1 / ρ + (-exp(((-3//4)*b*ρ*(4 - (3//4)*b*ρ)) / ((1 - (3//4)*b*ρ)^2))) / ρ))))^2))*Differential(ρ)(b) - (ρ^2)*Differential(ρ)(a)) + (-a*(ρ^2)) / ((1 + b*ρ)^n) + 0.0021108579925487037γ*(3atanh(cbrt((18.84955592153876ρ) / (γ*(1 - ρ*(1 / ρ + (-exp(((-3//4)*b*ρ*(4 - (3//4)*b*ρ)) / ((1 - (3//4)*b*ρ)^2))) / ρ)))) / sqrt(1 + cbrt((18.84955592153876ρ) / (γ*(1 - ρ*(1 / ρ + (-exp(((-3//4)*b*ρ*(4 - (3//4)*b*ρ)) / ((1 - (3//4)*b*ρ)^2))) / ρ))))^2)) + (2(cbrt((18.84955592153876ρ) / (γ*(1 - ρ*(1 / ρ + (-exp(((-3//4)*b*ρ*(4 - (3//4)*b*ρ)) / ((1 - (3//4)*b*ρ)^2))) / ρ))))^2) - 3)*cbrt((18.84955592153876ρ) / (γ*(1 - ρ*(1 / ρ + (-exp(((-3//4)*b*ρ*(4 - (3//4)*b*ρ)) / ((1 - (3//4)*b*ρ)^2))) / ρ))))*sqrt(1 + cbrt((18.84955592153876ρ) / (γ*(1 - ρ*(1 / ρ + (-exp(((-3//4)*b*ρ*(4 - (3//4)*b*ρ)) / ((1 - (3//4)*b*ρ)^2))) / ρ))))^2))) - 1"
      ]
     },
     "execution_count": 34,
     "metadata": {},
     "output_type": "execute_result"
    }
   ],
   "source": [
    "F_symb = [y1, y2, y3]"
   ]
  },
  {
   "cell_type": "code",
   "execution_count": null,
   "metadata": {},
   "outputs": [],
   "source": [
    "#TODO\n",
    "#f_expr = build_function(to_compute, [x, y])"
   ]
  }
 ],
 "metadata": {
  "kernelspec": {
   "display_name": "Julia 1.6.0",
   "language": "julia",
   "name": "julia-1.6"
  },
  "language_info": {
   "file_extension": ".jl",
   "mimetype": "application/julia",
   "name": "julia",
   "version": "1.6.1"
  },
  "orig_nbformat": 4
 },
 "nbformat": 4,
 "nbformat_minor": 2
}
