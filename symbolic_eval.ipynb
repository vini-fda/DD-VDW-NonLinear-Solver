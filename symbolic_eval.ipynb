{
 "cells": [
  {
   "cell_type": "code",
   "execution_count": null,
   "metadata": {},
   "outputs": [],
   "source": []
  },
  {
   "cell_type": "markdown",
   "metadata": {},
   "source": [
    "## Equação 1\n",
    "\n",
    "$$\\frac{\\varepsilon(\\rho_0)}{\\rho_0} - M + B_0 = 0$$"
   ]
  },
  {
   "cell_type": "markdown",
   "metadata": {},
   "source": [
    "## Equação 2\n",
    "\n",
    "$$A(\\rho) = \\frac{a}{(1+b \\rho)^n}$$"
   ]
  },
  {
   "cell_type": "markdown",
   "metadata": {},
   "source": [
    "## Equação 3\n",
    "\n",
    "$$B(\\rho) = \\frac{1}{\\rho} - \\frac{1}{\\rho} \\cdot \\exp\\left[ -\\frac{\\left( 4 - \\frac{3 b \\rho}{4}\\right)\\frac{3 b \\rho}{4}}{\\left( 1 - \\frac{3 b \\rho}{4}\\right)^2}\\right]$$"
   ]
  },
  {
   "cell_type": "markdown",
   "metadata": {},
   "source": [
    "**O sistema é:**\n",
    "\n",
    "$$\\left\\{\\begin{aligned}\n",
    "\\varepsilon(\\rho_0) / \\rho_0 - M + B_0 &= 0 \\\\\n",
    "P(\\rho_0) &= 0 \\\\\n",
    "K(\\rho_0) - K_0 &= 0\n",
    "\\end{aligned}\\right.$$"
   ]
  },
  {
   "cell_type": "markdown",
   "metadata": {},
   "source": [
    "As variáveis são\n",
    "\n",
    "$$\\vec{x} = \n",
    "\\begin{bmatrix}\n",
    "a \\\\\n",
    "b \\\\\n",
    "n \\\\\n",
    "\\end{bmatrix}$$"
   ]
  },
  {
   "cell_type": "markdown",
   "metadata": {},
   "source": [
    "Os parâmetros são $\\rho_0$, $K_0$, $B_0$ e $M$"
   ]
  },
  {
   "cell_type": "code",
   "execution_count": 1,
   "metadata": {},
   "outputs": [
    {
     "data": {
      "text/plain": [
       "4"
      ]
     },
     "execution_count": 1,
     "metadata": {},
     "output_type": "execute_result"
    }
   ],
   "source": [
    "using Symbolics\n",
    "\n",
    "@variables ρ a b n γ\n",
    "\n",
    "ħ_c = 197.33 # MeV.fm\n",
    "M = 939 #MeV\n",
    "ρ₀= 0.16#(ħ_c)^3 #MeV^3  ##fm^-3\n",
    "B₀ = 16 #MeV\n",
    "K₀ = 250 #MeV\n",
    "γ₀ = 4 #Adimensional"
   ]
  },
  {
   "cell_type": "code",
   "execution_count": 2,
   "metadata": {},
   "outputs": [],
   "source": [
    "A = a / (1 + b * ρ)^n;"
   ]
  },
  {
   "cell_type": "code",
   "execution_count": 3,
   "metadata": {},
   "outputs": [],
   "source": [
    "B = (1/ρ) - (1/ρ) * exp((((-3)*b*ρ/4)*(4-((3*b*ρ)/4)))/(1-((3*b*ρ)/4))^2);"
   ]
  },
  {
   "cell_type": "code",
   "execution_count": 4,
   "metadata": {},
   "outputs": [],
   "source": [
    "ρ_star = ρ /(1-B*ρ);"
   ]
  },
  {
   "cell_type": "code",
   "execution_count": 5,
   "metadata": {},
   "outputs": [],
   "source": [
    "kf_star = ((6*π^2*ρ_star)/γ)^(1//3);"
   ]
  },
  {
   "cell_type": "code",
   "execution_count": 6,
   "metadata": {},
   "outputs": [],
   "source": [
    "ε_star=(γ /(16*π^2))*( (2*kf_star^3 + M^2)*hypot(kf_star, M) - M^4 * asinh(kf_star/M))\n",
    "\n",
    "#kf_star*hypot(kf_star, M) - (M^2)*atanh( kf_star/hypot(kf_star, M)));"
   ]
  },
  {
   "cell_type": "code",
   "execution_count": 7,
   "metadata": {},
   "outputs": [],
   "source": [
    "ε = (1 - B*ρ) * ε_star - A * ρ^2;"
   ]
  },
  {
   "cell_type": "code",
   "execution_count": 8,
   "metadata": {},
   "outputs": [],
   "source": [
    "P_star = (γ/(48*π^2))*( (2*kf_star^3 - 3*kf_star*M^2)*hypot(kf_star, M) + 3*M^4*asinh(kf_star/M))\n",
    "\n",
    "#(γ/(48*π^2)) * (3*M^4*atanh( kf_star/hypot(kf_star, M)) +\n",
    "         #   kf_star * hypot(kf_star, M) * (2*kf_star^2 - 3*M^2));"
   ]
  },
  {
   "cell_type": "code",
   "execution_count": 9,
   "metadata": {},
   "outputs": [],
   "source": [
    "Dρ = Differential(ρ)\n",
    "Σ = Dρ(B) * ρ * P_star - Dρ(A) * ρ^2;"
   ]
  },
  {
   "cell_type": "code",
   "execution_count": 10,
   "metadata": {},
   "outputs": [],
   "source": [
    "P = P_star - (A * ρ^2) + (ρ * Σ); #ρ^2 * Dρ(ε/ρ) TODO: why is the symbolic differentiation not working?"
   ]
  },
  {
   "cell_type": "code",
   "execution_count": 11,
   "metadata": {},
   "outputs": [],
   "source": [
    "K_id_star = 3 * kf_star^2 / hypot(kf_star, M);"
   ]
  },
  {
   "cell_type": "code",
   "execution_count": 12,
   "metadata": {},
   "outputs": [],
   "source": [
    "K = 9 * Dρ(P);"
   ]
  },
  {
   "cell_type": "code",
   "execution_count": 13,
   "metadata": {},
   "outputs": [],
   "source": [
    "# Outputs of F(X)\n",
    "\n",
    "y1 = ε/ρ - M + B₀;\n",
    "y2 = P;\n",
    "y3 = K - K₀;"
   ]
  },
  {
   "cell_type": "code",
   "execution_count": 14,
   "metadata": {},
   "outputs": [],
   "source": [
    "F_symb = [y1, y2, y3];"
   ]
  },
  {
   "cell_type": "code",
   "execution_count": 15,
   "metadata": {},
   "outputs": [
    {
     "data": {
      "text/plain": [
       "#1 (generic function with 1 method)"
      ]
     },
     "execution_count": 15,
     "metadata": {},
     "output_type": "execute_result"
    }
   ],
   "source": [
    "#TODO\n",
    "F_symb = expand_derivatives.(F_symb)\n",
    "f_expr = build_function(F_symb, [a, b, n, ρ, γ])\n",
    "F = eval(f_expr[1])"
   ]
  },
  {
   "cell_type": "code",
   "execution_count": 16,
   "metadata": {},
   "outputs": [
    {
     "data": {
      "text/plain": [
       "3-element Vector{Float64}:\n",
       "   -4.3498788411375314e7\n",
       "   -3.2503199051151275\n",
       " -367.06441336162493"
      ]
     },
     "execution_count": 16,
     "metadata": {},
     "output_type": "execute_result"
    }
   ],
   "source": [
    "F([447.804015, 1.26421399, 3.009682, ρ₀, γ₀])"
   ]
  },
  {
   "cell_type": "code",
   "execution_count": 17,
   "metadata": {},
   "outputs": [
    {
     "data": {
      "text/plain": [
       "41.15467439704639"
      ]
     },
     "execution_count": 17,
     "metadata": {},
     "output_type": "execute_result"
    }
   ],
   "source": [
    "- M + B₀ +964.1546743970464"
   ]
  },
  {
   "cell_type": "code",
   "execution_count": null,
   "metadata": {},
   "outputs": [],
   "source": []
  }
 ],
 "metadata": {
  "kernelspec": {
   "display_name": "Julia 1.6.0",
   "language": "julia",
   "name": "julia-1.6"
  },
  "language_info": {
   "file_extension": ".jl",
   "mimetype": "application/julia",
   "name": "julia",
   "version": "1.6.1"
  }
 },
 "nbformat": 4,
 "nbformat_minor": 2
}
