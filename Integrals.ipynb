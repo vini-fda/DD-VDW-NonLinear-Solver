{
 "cells": [
  {
   "cell_type": "code",
   "execution_count": 34,
   "id": "80a63254",
   "metadata": {},
   "outputs": [],
   "source": [
    "from sympy import *\n",
    "import math"
   ]
  },
  {
   "cell_type": "code",
   "execution_count": 38,
   "id": "ee71dd43",
   "metadata": {},
   "outputs": [
    {
     "data": {
      "text/latex": [
       "$\\displaystyle \\int\\limits_{0}^{K} k^{2} \\sqrt{M^{2} + k^{2}}\\, dk$"
      ],
      "text/plain": [
       "Integral(k**2*sqrt(M**2 + k**2), (k, 0, K))"
      ]
     },
     "execution_count": 38,
     "metadata": {},
     "output_type": "execute_result"
    }
   ],
   "source": [
    "k = Symbol('k')\n",
    "M = Symbol('M')\n",
    "K = Symbol('K')\n",
    "I = Integral(k*k*(sqrt(k*k + M*M)),(k,0,K))\n",
    "I"
   ]
  },
  {
   "cell_type": "code",
   "execution_count": 43,
   "id": "fb4e84f6",
   "metadata": {},
   "outputs": [
    {
     "data": {
      "text/latex": [
       "$\\displaystyle \\frac{M \\left(2 K^{3} \\sqrt{\\frac{K^{2}}{M^{2}} + 1} + K M^{2} \\sqrt{\\frac{K^{2}}{M^{2}} + 1} - M^{3} \\operatorname{asinh}{\\left(\\frac{K}{M} \\right)}\\right)}{8}$"
      ],
      "text/plain": [
       "M*(2*K**3*sqrt(K**2/M**2 + 1) + K*M**2*sqrt(K**2/M**2 + 1) - M**3*asinh(K/M))/8"
      ]
     },
     "execution_count": 43,
     "metadata": {},
     "output_type": "execute_result"
    }
   ],
   "source": [
    "simplify(I.doit()) # epsilon_id_star"
   ]
  },
  {
   "cell_type": "code",
   "execution_count": 44,
   "id": "1f085545",
   "metadata": {},
   "outputs": [
    {
     "data": {
      "text/latex": [
       "$\\displaystyle \\int\\limits_{0}^{K} \\frac{k^{4}}{\\sqrt{M^{2} + k^{2}}}\\, dk$"
      ],
      "text/plain": [
       "Integral(k**4/sqrt(M**2 + k**2), (k, 0, K))"
      ]
     },
     "execution_count": 44,
     "metadata": {},
     "output_type": "execute_result"
    }
   ],
   "source": [
    "I2 = Integral(k*k*k*k*(1/sqrt(k*k + M*M)),(k,0,K)) # P_star\n",
    "I2"
   ]
  },
  {
   "cell_type": "code",
   "execution_count": 46,
   "id": "23234ea5",
   "metadata": {},
   "outputs": [
    {
     "data": {
      "text/latex": [
       "$\\displaystyle \\frac{M \\left(2 K^{3} \\sqrt{\\frac{K^{2}}{M^{2}} + 1} - 3 K M^{2} \\sqrt{\\frac{K^{2}}{M^{2}} + 1} + 3 M^{3} \\operatorname{asinh}{\\left(\\frac{K}{M} \\right)}\\right)}{8}$"
      ],
      "text/plain": [
       "M*(2*K**3*sqrt(K**2/M**2 + 1) - 3*K*M**2*sqrt(K**2/M**2 + 1) + 3*M**3*asinh(K/M))/8"
      ]
     },
     "execution_count": 46,
     "metadata": {},
     "output_type": "execute_result"
    }
   ],
   "source": [
    "simplify(I2.doit())"
   ]
  },
  {
   "cell_type": "code",
   "execution_count": null,
   "id": "6334d146",
   "metadata": {},
   "outputs": [],
   "source": []
  }
 ],
 "metadata": {
  "kernelspec": {
   "display_name": "Python 3 (ipykernel)",
   "language": "python",
   "name": "python3"
  },
  "language_info": {
   "codemirror_mode": {
    "name": "ipython",
    "version": 3
   },
   "file_extension": ".py",
   "mimetype": "text/x-python",
   "name": "python",
   "nbconvert_exporter": "python",
   "pygments_lexer": "ipython3",
   "version": "3.9.7"
  }
 },
 "nbformat": 4,
 "nbformat_minor": 5
}
